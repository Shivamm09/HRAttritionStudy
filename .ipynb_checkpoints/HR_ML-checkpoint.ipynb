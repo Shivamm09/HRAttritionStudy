{
 "cells": [
  {
   "cell_type": "code",
   "execution_count": 1,
   "metadata": {},
   "outputs": [
    {
     "name": "stderr",
     "output_type": "stream",
     "text": [
      "Using TensorFlow backend.\n"
     ]
    }
   ],
   "source": [
    "import pandas as pd\n",
    "import numpy as np\n",
    "import sklearn\n",
    "from sklearn.model_selection import train_test_split\n",
    "from sklearn.linear_model import LogisticRegression\n",
    "from sklearn.model_selection import cross_val_predict\n",
    "from sklearn.metrics import classification_report\n",
    "from sklearn.metrics import precision_recall_curve\n",
    "from sklearn.metrics import roc_curve\n",
    "from sklearn.metrics import roc_auc_score\n",
    "import matplotlib.pyplot as plt\n",
    "from sklearn.metrics import accuracy_score\n",
    "from sklearn.model_selection import GridSearchCV\n",
    "from sklearn.ensemble import RandomForestClassifier\n",
    "from sklearn.svm import SVC\n",
    "from sklearn import preprocessing\n",
    "from sklearn.preprocessing import StandardScaler\n",
    "from sklearn.naive_bayes import GaussianNB\n",
    "import xgboost as xgb\n",
    "import keras \n",
    "import tensorflow as tf\n",
    "from keras.layers import Dropout\n",
    "import pandas as pd\n",
    "import numpy as np\n",
    "from scipy.stats import chisquare\n",
    "import seaborn as sns\n",
    "import matplotlib.pyplot as plt\n",
    "import scipy\n",
    "from sklearn.decomposition import PCA\n",
    "from sklearn.feature_selection import SelectKBest, chi2\n",
    "from sklearn.dummy import DummyClassifier"
   ]
  },
  {
   "cell_type": "code",
   "execution_count": 2,
   "metadata": {},
   "outputs": [],
   "source": [
    "data = pd.read_csv(\"WA_Fn-UseC_-HR-Employee-Attrition.csv\")\n",
    "###The following columns have no information provided, and they seems to be incosistent with what \n",
    "## some of the data columns in the columns already have\n",
    "for x in data.columns:\n",
    "    if x[-4:] == \"Rate\":\n",
    "        data = data.drop(x, axis =1)\n",
    "###The following data does not provide any relevance to the data as they are either \n",
    "### all have the same number, or the value does not provide any information\n",
    "data = data.drop([\"EmployeeCount\", \"EmployeeNumber\", \"StandardHours\", \"Over18\", \"EducationField\", 'Education', 'JobLevel'], axis =1 )"
   ]
  },
  {
   "cell_type": "code",
   "execution_count": 3,
   "metadata": {},
   "outputs": [],
   "source": [
    "mapping = {\"Yes\": 1, \"No\":0}\n",
    "data['StockOptionLevel'] = np.where(data['StockOptionLevel'] >0, 1,0)\n",
    "data['OverTime'] = data['OverTime'].map(mapping)\n",
    "data['Gender'] = np.where(data[\"Gender\"] == \"Male\", 1,0)\n",
    "data['BusinessTravel'] = np.where(data['BusinessTravel'] == 'Travel_Frequently', 1,0)\n",
    "data['MaritalStatus'] = np.where(data['MaritalStatus'] == 'Single',0,1)\n",
    "data['TotalJobSatisfcation'] = data['EnvironmentSatisfaction'] + data['JobSatisfaction'] + data['RelationshipSatisfaction']\n",
    "data = data.drop(['EnvironmentSatisfaction', 'JobSatisfaction', 'RelationshipSatisfaction', 'PerformanceRating'], axis =1 )"
   ]
  },
  {
   "cell_type": "code",
   "execution_count": 4,
   "metadata": {},
   "outputs": [],
   "source": [
    "role_to_salary = {}\n",
    "for x in data['JobRole'].unique():\n",
    "    subset = data[data['JobRole'] == x]\n",
    "    role_to_salary[x] = np.mean(subset['MonthlyIncome'])\n",
    "\n",
    "data['JobRole'] = data['JobRole'].map(role_to_salary)\n",
    "\n",
    "\n",
    "department_to_salary = {}\n",
    "for x in data['Department'].unique():\n",
    "    subset = data[data['Department'] == x]\n",
    "    department_to_salary[x] = np.mean(subset['MonthlyIncome'])\n",
    "\n",
    "data['Department'] = data['Department'].map(department_to_salary)"
   ]
  },
  {
   "cell_type": "code",
   "execution_count": 5,
   "metadata": {},
   "outputs": [],
   "source": [
    "# categorical = list(data.drop(['Attrition'], axis =1).describe(include = ['O']).columns)\n",
    "numerical = list(data.describe().columns)\n",
    "x = data[numerical].values\n",
    "min_max_scaler = preprocessing.MinMaxScaler()\n",
    "x_scaled = min_max_scaler.fit_transform(x)\n",
    "df = pd.DataFrame(x_scaled)\n",
    "df.columns = numerical\n",
    "# for x in categorical:\n",
    "#     df[x] = data[x]\n",
    "# df = pd.get_dummies(df, columns = categorical)\n",
    "mapping = {\"Yes\": 1, \"No\":0}\n",
    "df[\"Attrition\"] = data[\"Attrition\"].map(mapping)\n",
    "X = df.drop(\"Attrition\", axis =1)\n",
    "y = df[\"Attrition\"]\n",
    "X_train, X_test, y_train, y_test = train_test_split(X, y, test_size=0.30, random_state=42, shuffle = True, stratify = y)\n",
    "# X_train, X_valid, y_train, y_valid = train_test_split(X_train, y_train, test_size=0.20, random_state=42, shuffle = True, stratify = y_train)"
   ]
  },
  {
   "cell_type": "code",
   "execution_count": 6,
   "metadata": {},
   "outputs": [
    {
     "name": "stdout",
     "output_type": "stream",
     "text": [
      "train\n",
      "              precision    recall  f1-score   support\n",
      "\n",
      "           0       0.84      1.00      0.91       863\n",
      "           1       0.00      0.00      0.00       166\n",
      "\n",
      "    accuracy                           0.84      1029\n",
      "   macro avg       0.42      0.50      0.46      1029\n",
      "weighted avg       0.70      0.84      0.77      1029\n",
      "\n",
      "test\n",
      "              precision    recall  f1-score   support\n",
      "\n",
      "           0       0.84      1.00      0.91       370\n",
      "           1       0.00      0.00      0.00        71\n",
      "\n",
      "    accuracy                           0.84       441\n",
      "   macro avg       0.42      0.50      0.46       441\n",
      "weighted avg       0.70      0.84      0.77       441\n",
      "\n"
     ]
    },
    {
     "name": "stderr",
     "output_type": "stream",
     "text": [
      "/Library/Frameworks/Python.framework/Versions/3.8/lib/python3.8/site-packages/sklearn/metrics/_classification.py:1221: UndefinedMetricWarning: Precision and F-score are ill-defined and being set to 0.0 in labels with no predicted samples. Use `zero_division` parameter to control this behavior.\n",
      "  _warn_prf(average, modifier, msg_start, len(result))\n"
     ]
    }
   ],
   "source": [
    "dummy_clf = DummyClassifier(strategy=\"most_frequent\").fit(X_train, y_train)\n",
    "print('train')\n",
    "print(classification_report(y_train, dummy_clf.predict(X_train)))\n",
    "print('test')\n",
    "print(classification_report(y_test, dummy_clf.predict(X_test)))"
   ]
  },
  {
   "cell_type": "code",
   "execution_count": 7,
   "metadata": {},
   "outputs": [
    {
     "name": "stdout",
     "output_type": "stream",
     "text": [
      "train\n",
      "              precision    recall  f1-score   support\n",
      "\n",
      "           0       0.90      0.99      0.94       863\n",
      "           1       0.88      0.40      0.55       166\n",
      "\n",
      "    accuracy                           0.89      1029\n",
      "   macro avg       0.89      0.69      0.74      1029\n",
      "weighted avg       0.89      0.89      0.88      1029\n",
      "\n",
      "test\n",
      "              precision    recall  f1-score   support\n",
      "\n",
      "           0       0.90      0.98      0.94       370\n",
      "           1       0.83      0.42      0.56        71\n",
      "\n",
      "    accuracy                           0.89       441\n",
      "   macro avg       0.87      0.70      0.75       441\n",
      "weighted avg       0.89      0.89      0.88       441\n",
      "\n"
     ]
    }
   ],
   "source": [
    "svc = SVC(kernel=\"linear\", C =1, probability= True).fit(X_train, y_train)\n",
    "print('train')\n",
    "print(classification_report(y_train, svc.predict(X_train)))\n",
    "print('test')\n",
    "print(classification_report(y_test, svc.predict(X_test)))"
   ]
  },
  {
   "cell_type": "code",
   "execution_count": 8,
   "metadata": {},
   "outputs": [],
   "source": [
    "index = np.where(svc.predict(X_test) ==1)"
   ]
  },
  {
   "cell_type": "code",
   "execution_count": 9,
   "metadata": {},
   "outputs": [
    {
     "data": {
      "text/plain": [
       "36"
      ]
     },
     "execution_count": 9,
     "metadata": {},
     "output_type": "execute_result"
    }
   ],
   "source": [
    "len(index[0])"
   ]
  },
  {
   "cell_type": "code",
   "execution_count": 10,
   "metadata": {},
   "outputs": [
    {
     "data": {
      "text/plain": [
       "30"
      ]
     },
     "execution_count": 10,
     "metadata": {},
     "output_type": "execute_result"
    }
   ],
   "source": [
    "sum(y_test.iloc[index])"
   ]
  },
  {
   "cell_type": "code",
   "execution_count": 11,
   "metadata": {},
   "outputs": [
    {
     "data": {
      "text/plain": [
       "441"
      ]
     },
     "execution_count": 11,
     "metadata": {},
     "output_type": "execute_result"
    }
   ],
   "source": [
    "len(y_test)"
   ]
  },
  {
   "cell_type": "code",
   "execution_count": 12,
   "metadata": {},
   "outputs": [
    {
     "data": {
      "text/plain": [
       "[('Age', -1.1702826940198803),\n",
       " ('BusinessTravel', 0.6956480875197286),\n",
       " ('Department', 0.5457153870831988),\n",
       " ('DistanceFromHome', 0.674852644171164),\n",
       " ('Gender', 0.1288764888692624),\n",
       " ('JobInvolvement', -0.858109687750372),\n",
       " ('JobRole', -0.9689650948879223),\n",
       " ('MaritalStatus', -0.09619114111732685),\n",
       " ('MonthlyIncome', 0.01265262733752437),\n",
       " ('NumCompaniesWorked', 1.0273659479738066),\n",
       " ('OverTime', 1.041431318501914),\n",
       " ('PercentSalaryHike', 0.1005654949384096),\n",
       " ('StockOptionLevel', -0.7842926573758184),\n",
       " ('TotalWorkingYears', -1.2313242874890167),\n",
       " ('TrainingTimesLastYear', -0.4892138701975559),\n",
       " ('WorkLifeBalance', -0.5686634812869675),\n",
       " ('YearsAtCompany', -0.40124367618727885),\n",
       " ('YearsInCurrentRole', -1.2022445678776261),\n",
       " ('YearsSinceLastPromotion', 1.707096049398664),\n",
       " ('YearsWithCurrManager', -0.7036201180812487),\n",
       " ('TotalJobSatisfcation', -1.955425340067796)]"
      ]
     },
     "execution_count": 12,
     "metadata": {},
     "output_type": "execute_result"
    }
   ],
   "source": [
    "list(zip(list(X_train.columns), svc.coef_[0]))"
   ]
  },
  {
   "cell_type": "code",
   "execution_count": 13,
   "metadata": {},
   "outputs": [
    {
     "name": "stdout",
     "output_type": "stream",
     "text": [
      "train\n",
      "              precision    recall  f1-score   support\n",
      "\n",
      "           0       0.90      0.99      0.94       863\n",
      "           1       0.85      0.41      0.55       166\n",
      "\n",
      "    accuracy                           0.89      1029\n",
      "   macro avg       0.87      0.70      0.75      1029\n",
      "weighted avg       0.89      0.89      0.88      1029\n",
      "\n",
      "test\n",
      "              precision    recall  f1-score   support\n",
      "\n",
      "           0       0.89      0.97      0.93       370\n",
      "           1       0.73      0.38      0.50        71\n",
      "\n",
      "    accuracy                           0.88       441\n",
      "   macro avg       0.81      0.68      0.72       441\n",
      "weighted avg       0.87      0.88      0.86       441\n",
      "\n"
     ]
    }
   ],
   "source": [
    "lr = LogisticRegression().fit(X_train, y_train)\n",
    "print('train')\n",
    "print(classification_report(y_train, lr.predict(X_train)))\n",
    "print('test')\n",
    "print(classification_report(y_test, lr.predict(X_test)))"
   ]
  },
  {
   "cell_type": "code",
   "execution_count": 14,
   "metadata": {},
   "outputs": [
    {
     "name": "stdout",
     "output_type": "stream",
     "text": [
      "train\n",
      "              precision    recall  f1-score   support\n",
      "\n",
      "           0       0.84      1.00      0.91       863\n",
      "           1       1.00      0.01      0.01       166\n",
      "\n",
      "    accuracy                           0.84      1029\n",
      "   macro avg       0.92      0.50      0.46      1029\n",
      "weighted avg       0.87      0.84      0.77      1029\n",
      "\n",
      "test\n",
      "              precision    recall  f1-score   support\n",
      "\n",
      "           0       0.84      1.00      0.91       370\n",
      "           1       1.00      0.03      0.05        71\n",
      "\n",
      "    accuracy                           0.84       441\n",
      "   macro avg       0.92      0.51      0.48       441\n",
      "weighted avg       0.87      0.84      0.78       441\n",
      "\n"
     ]
    }
   ],
   "source": [
    "lra = LogisticRegression(class_weight = {0:.85, 1:0.15}).fit(X_train, y_train)\n",
    "print('train')\n",
    "print(classification_report(y_train, lra.predict(X_train)))\n",
    "print('test')\n",
    "print(classification_report(y_test, lra.predict(X_test)))"
   ]
  },
  {
   "cell_type": "code",
   "execution_count": 15,
   "metadata": {},
   "outputs": [
    {
     "data": {
      "text/plain": [
       "(array([0, 1]), array([439,   2]))"
      ]
     },
     "execution_count": 15,
     "metadata": {},
     "output_type": "execute_result"
    }
   ],
   "source": [
    "np.unique(lra.predict(X_test), return_counts = True)"
   ]
  },
  {
   "cell_type": "code",
   "execution_count": 16,
   "metadata": {},
   "outputs": [
    {
     "data": {
      "text/plain": [
       "(array([0, 1]), array([370,  71]))"
      ]
     },
     "execution_count": 16,
     "metadata": {},
     "output_type": "execute_result"
    }
   ],
   "source": [
    "np.unique(y_test, return_counts = True)"
   ]
  },
  {
   "cell_type": "code",
   "execution_count": 17,
   "metadata": {},
   "outputs": [
    {
     "name": "stdout",
     "output_type": "stream",
     "text": [
      "train\n",
      "              precision    recall  f1-score   support\n",
      "\n",
      "           0       1.00      0.99      0.99       863\n",
      "           1       0.94      0.99      0.96       166\n",
      "\n",
      "    accuracy                           0.99      1029\n",
      "   macro avg       0.97      0.99      0.98      1029\n",
      "weighted avg       0.99      0.99      0.99      1029\n",
      "\n",
      "test\n",
      "              precision    recall  f1-score   support\n",
      "\n",
      "           0       0.89      0.89      0.89       370\n",
      "           1       0.43      0.44      0.43        71\n",
      "\n",
      "    accuracy                           0.82       441\n",
      "   macro avg       0.66      0.66      0.66       441\n",
      "weighted avg       0.82      0.82      0.82       441\n",
      "\n"
     ]
    }
   ],
   "source": [
    "clf = xgb.XGBClassifier(max_depth =3, n_estimators = 100, scale_pos_weight = 4)\n",
    "clf.fit(X_train,y_train)\n",
    "print('train')\n",
    "print(classification_report(y_train, clf.predict(X_train)))\n",
    "print('test')\n",
    "print(classification_report(y_test, clf.predict(X_test)))"
   ]
  },
  {
   "cell_type": "code",
   "execution_count": 18,
   "metadata": {},
   "outputs": [],
   "source": [
    "from sklearn.ensemble import VotingClassifier"
   ]
  },
  {
   "cell_type": "code",
   "execution_count": 19,
   "metadata": {},
   "outputs": [],
   "source": [
    "vc = VotingClassifier(estimators=[\n",
    "    ('svc', SVC(kernel=\"linear\", C =1, probability= True, class_weight = {0:0.85, 1:0.15})),\n",
    "    ('clf', xgb.XGBClassifier(max_depth =1, n_estimators = 100, scale_pos_weight = 4)),\n",
    "    ('lr', LogisticRegression(class_weight = {0:0.85, 1:0.15}))], voting='soft')"
   ]
  },
  {
   "cell_type": "code",
   "execution_count": 20,
   "metadata": {},
   "outputs": [
    {
     "name": "stdout",
     "output_type": "stream",
     "text": [
      "train\n",
      "              precision    recall  f1-score   support\n",
      "\n",
      "           0       0.87      1.00      0.93       863\n",
      "           1       1.00      0.22      0.36       166\n",
      "\n",
      "    accuracy                           0.87      1029\n",
      "   macro avg       0.93      0.61      0.64      1029\n",
      "weighted avg       0.89      0.87      0.84      1029\n",
      "\n",
      "test\n",
      "              precision    recall  f1-score   support\n",
      "\n",
      "           0       0.87      0.99      0.93       370\n",
      "           1       0.88      0.20      0.32        71\n",
      "\n",
      "    accuracy                           0.87       441\n",
      "   macro avg       0.87      0.60      0.62       441\n",
      "weighted avg       0.87      0.87      0.83       441\n",
      "\n"
     ]
    }
   ],
   "source": [
    "vc.fit(X_train, y_train)\n",
    "print('train')\n",
    "print(classification_report(y_train, vc.predict(X_train)))\n",
    "print('test')\n",
    "print(classification_report(y_test, vc.predict(X_test)))"
   ]
  },
  {
   "cell_type": "code",
   "execution_count": 21,
   "metadata": {},
   "outputs": [],
   "source": [
    "vc = VotingClassifier(estimators=[\n",
    "    ('svc', SVC(kernel=\"linear\", C =1, probability= True, class_weight = 'balanced')),\n",
    "    ('clf', xgb.XGBClassifier(max_depth =1, n_estimators = 100)),\n",
    "    ('lr', LogisticRegression(class_weight = 'balanced'))], voting='soft')"
   ]
  },
  {
   "cell_type": "code",
   "execution_count": 22,
   "metadata": {},
   "outputs": [
    {
     "name": "stdout",
     "output_type": "stream",
     "text": [
      "train\n",
      "              precision    recall  f1-score   support\n",
      "\n",
      "           0       0.92      0.97      0.95       863\n",
      "           1       0.79      0.57      0.66       166\n",
      "\n",
      "    accuracy                           0.91      1029\n",
      "   macro avg       0.86      0.77      0.81      1029\n",
      "weighted avg       0.90      0.91      0.90      1029\n",
      "\n",
      "test\n",
      "              precision    recall  f1-score   support\n",
      "\n",
      "           0       0.90      0.95      0.93       370\n",
      "           1       0.65      0.46      0.54        71\n",
      "\n",
      "    accuracy                           0.87       441\n",
      "   macro avg       0.77      0.71      0.73       441\n",
      "weighted avg       0.86      0.87      0.86       441\n",
      "\n"
     ]
    }
   ],
   "source": [
    "vc.fit(X_train, y_train)\n",
    "print('train')\n",
    "print(classification_report(y_train, vc.predict(X_train)))\n",
    "print('test')\n",
    "print(classification_report(y_test, vc.predict(X_test)))"
   ]
  },
  {
   "cell_type": "code",
   "execution_count": 23,
   "metadata": {},
   "outputs": [
    {
     "name": "stdout",
     "output_type": "stream",
     "text": [
      "Train on 926 samples, validate on 103 samples\n",
      "Epoch 1/30\n",
      "926/926 [==============================] - 1s 1ms/step - loss: 0.5825 - precision: 0.1630 - val_loss: 0.5197 - val_precision: 0.1786\n",
      "Epoch 2/30\n",
      "926/926 [==============================] - 0s 175us/step - loss: 0.5067 - precision: 0.1696 - val_loss: 0.4729 - val_precision: 0.1718\n",
      "Epoch 3/30\n",
      "926/926 [==============================] - 0s 147us/step - loss: 0.4651 - precision: 0.1826 - val_loss: 0.4569 - val_precision: 0.1938\n",
      "Epoch 4/30\n",
      "926/926 [==============================] - 0s 142us/step - loss: 0.4678 - precision: 0.1976 - val_loss: 0.4299 - val_precision: 0.2068\n",
      "Epoch 5/30\n",
      "926/926 [==============================] - 0s 147us/step - loss: 0.4661 - precision: 0.2126 - val_loss: 0.4086 - val_precision: 0.2193\n",
      "Epoch 6/30\n",
      "926/926 [==============================] - 0s 148us/step - loss: 0.4532 - precision: 0.2276 - val_loss: 0.3995 - val_precision: 0.2417\n",
      "Epoch 7/30\n",
      "926/926 [==============================] - 0s 139us/step - loss: 0.4295 - precision: 0.2591 - val_loss: 0.3800 - val_precision: 0.2746\n",
      "Epoch 8/30\n",
      "926/926 [==============================] - 0s 147us/step - loss: 0.4399 - precision: 0.2793 - val_loss: 0.3769 - val_precision: 0.2893\n",
      "Epoch 9/30\n",
      "926/926 [==============================] - 0s 142us/step - loss: 0.4168 - precision: 0.3010 - val_loss: 0.3673 - val_precision: 0.3143\n",
      "Epoch 10/30\n",
      "926/926 [==============================] - 0s 139us/step - loss: 0.4079 - precision: 0.3188 - val_loss: 0.3615 - val_precision: 0.3271\n",
      "Epoch 11/30\n",
      "926/926 [==============================] - 0s 134us/step - loss: 0.4169 - precision: 0.3340 - val_loss: 0.3526 - val_precision: 0.3451\n",
      "Epoch 12/30\n",
      "926/926 [==============================] - 0s 138us/step - loss: 0.4086 - precision: 0.3524 - val_loss: 0.3463 - val_precision: 0.3613\n",
      "Epoch 13/30\n",
      "926/926 [==============================] - 0s 143us/step - loss: 0.4062 - precision: 0.3672 - val_loss: 0.3385 - val_precision: 0.3780\n",
      "Epoch 14/30\n",
      "926/926 [==============================] - 0s 139us/step - loss: 0.3971 - precision: 0.3830 - val_loss: 0.3362 - val_precision: 0.3937\n",
      "Epoch 15/30\n",
      "926/926 [==============================] - 0s 135us/step - loss: 0.3781 - precision: 0.4004 - val_loss: 0.3325 - val_precision: 0.4086\n",
      "Epoch 16/30\n",
      "926/926 [==============================] - 0s 138us/step - loss: 0.3949 - precision: 0.4127 - val_loss: 0.3310 - val_precision: 0.4199\n",
      "Epoch 17/30\n",
      "926/926 [==============================] - 0s 136us/step - loss: 0.3795 - precision: 0.4228 - val_loss: 0.3347 - val_precision: 0.4277\n",
      "Epoch 18/30\n",
      "926/926 [==============================] - 0s 136us/step - loss: 0.4059 - precision: 0.4308 - val_loss: 0.3327 - val_precision: 0.4348\n",
      "Epoch 19/30\n",
      "926/926 [==============================] - 0s 137us/step - loss: 0.3770 - precision: 0.4413 - val_loss: 0.3359 - val_precision: 0.4459\n",
      "Epoch 20/30\n",
      "926/926 [==============================] - 0s 134us/step - loss: 0.3860 - precision: 0.4473 - val_loss: 0.3376 - val_precision: 0.4514\n",
      "Epoch 21/30\n",
      "926/926 [==============================] - 0s 133us/step - loss: 0.3674 - precision: 0.4520 - val_loss: 0.3282 - val_precision: 0.4554\n",
      "Epoch 22/30\n",
      "926/926 [==============================] - 0s 149us/step - loss: 0.3731 - precision: 0.4586 - val_loss: 0.3337 - val_precision: 0.4613\n",
      "Epoch 23/30\n",
      "926/926 [==============================] - 0s 155us/step - loss: 0.3578 - precision: 0.4638 - val_loss: 0.3320 - val_precision: 0.4680\n",
      "Epoch 24/30\n",
      "926/926 [==============================] - 0s 151us/step - loss: 0.3508 - precision: 0.4708 - val_loss: 0.3262 - val_precision: 0.4766\n",
      "Epoch 25/30\n",
      "926/926 [==============================] - 0s 152us/step - loss: 0.3632 - precision: 0.4790 - val_loss: 0.3328 - val_precision: 0.4812\n",
      "Epoch 26/30\n",
      "926/926 [==============================] - 0s 149us/step - loss: 0.3483 - precision: 0.4852 - val_loss: 0.3291 - val_precision: 0.4898\n",
      "Epoch 27/30\n",
      "926/926 [==============================] - 0s 145us/step - loss: 0.3617 - precision: 0.4923 - val_loss: 0.3288 - val_precision: 0.4947\n",
      "Epoch 28/30\n",
      "926/926 [==============================] - 0s 136us/step - loss: 0.3375 - precision: 0.4975 - val_loss: 0.3237 - val_precision: 0.4992\n",
      "Epoch 29/30\n",
      "926/926 [==============================] - 0s 136us/step - loss: 0.3499 - precision: 0.5014 - val_loss: 0.3300 - val_precision: 0.5050\n",
      "Epoch 30/30\n",
      "926/926 [==============================] - 0s 134us/step - loss: 0.3373 - precision: 0.5086 - val_loss: 0.3248 - val_precision: 0.5118\n"
     ]
    },
    {
     "data": {
      "text/plain": [
       "<keras.callbacks.callbacks.History at 0x7fe0296bda30>"
      ]
     },
     "execution_count": 23,
     "metadata": {},
     "output_type": "execute_result"
    }
   ],
   "source": [
    "class_weight = {0:0.85}\n",
    "dropout = 0.4\n",
    "model = keras.models.Sequential()\n",
    "model.add(keras.layers.Dense(100, kernel_initializer= 'he_normal',input_shape = (X.shape[1],)))\n",
    "model.add(keras.layers.BatchNormalization())\n",
    "model.add(keras.layers.Activation('relu'))\n",
    "model.add(Dropout(dropout))\n",
    "model.add(keras.layers.Dense(100, kernel_initializer= 'he_normal'))\n",
    "model.add(keras.layers.BatchNormalization())\n",
    "model.add(keras.layers.Activation('relu'))\n",
    "model.add(Dropout(dropout))\n",
    "model.add(keras.layers.Dense(100, kernel_initializer= 'he_normal'))\n",
    "model.add(keras.layers.BatchNormalization())\n",
    "model.add(keras.layers.Activation('relu'))\n",
    "model.add(Dropout(dropout))\n",
    "model.add(keras.layers.Dense(100, kernel_initializer= 'he_normal'))\n",
    "model.add(keras.layers.BatchNormalization())\n",
    "model.add(keras.layers.Activation('relu'))\n",
    "model.add(Dropout(dropout))\n",
    "model.add(keras.layers.Dense(100, kernel_initializer= 'he_normal'))\n",
    "model.add(keras.layers.BatchNormalization())\n",
    "model.add(keras.layers.Activation('relu'))\n",
    "model.add(Dropout(dropout))\n",
    "model.add(keras.layers.Dense(1, activation = 'sigmoid'))\n",
    "model.compile(optimizer = \"adam\", loss = 'binary_crossentropy', metrics = [tf.keras.metrics.Precision()])\n",
    "model.fit(X_train, y_train, epochs = 30, batch_size = 20, validation_split=0.1)"
   ]
  },
  {
   "cell_type": "code",
   "execution_count": 24,
   "metadata": {},
   "outputs": [
    {
     "name": "stdout",
     "output_type": "stream",
     "text": [
      "train\n",
      "              precision    recall  f1-score   support\n",
      "\n",
      "           0       0.89      0.99      0.94       863\n",
      "           1       0.85      0.38      0.52       166\n",
      "\n",
      "    accuracy                           0.89      1029\n",
      "   macro avg       0.87      0.68      0.73      1029\n",
      "weighted avg       0.89      0.89      0.87      1029\n",
      "\n",
      "test\n",
      "              precision    recall  f1-score   support\n",
      "\n",
      "           0       0.89      0.97      0.93       370\n",
      "           1       0.69      0.38      0.49        71\n",
      "\n",
      "    accuracy                           0.87       441\n",
      "   macro avg       0.79      0.67      0.71       441\n",
      "weighted avg       0.86      0.87      0.86       441\n",
      "\n"
     ]
    }
   ],
   "source": [
    "# print('train')\n",
    "# print(classification_report(y_train, model.predict(X_train)))\n",
    "# print('test')\n",
    "# print(classification_report(y_test, model.predict(X_test)))\n",
    "\n",
    "print('train')\n",
    "print(classification_report(y_train, [x >=0.5 for x in model.predict(X_train)]))\n",
    "print('test')\n",
    "print(classification_report(y_test, [x >=0.5 for x in model.predict(X_test)]))"
   ]
  },
  {
   "cell_type": "code",
   "execution_count": 25,
   "metadata": {},
   "outputs": [
    {
     "name": "stdout",
     "output_type": "stream",
     "text": [
      "Train on 926 samples, validate on 103 samples\n",
      "Epoch 1/30\n",
      "926/926 [==============================] - 1s 1ms/step - loss: 0.3757 - precision_1: 0.1568 - val_loss: 0.3387 - val_precision_1: 0.1641\n",
      "Epoch 2/30\n",
      "926/926 [==============================] - 0s 185us/step - loss: 0.3147 - precision_1: 0.1620 - val_loss: 0.3136 - val_precision_1: 0.1588\n",
      "Epoch 3/30\n",
      "926/926 [==============================] - 0s 155us/step - loss: 0.3201 - precision_1: 0.1516 - val_loss: 0.3037 - val_precision_1: 0.1491\n",
      "Epoch 4/30\n",
      "926/926 [==============================] - 0s 144us/step - loss: 0.3017 - precision_1: 0.1491 - val_loss: 0.2935 - val_precision_1: 0.1549\n",
      "Epoch 5/30\n",
      "926/926 [==============================] - 0s 146us/step - loss: 0.2861 - precision_1: 0.1612 - val_loss: 0.2897 - val_precision_1: 0.1704\n",
      "Epoch 6/30\n",
      "926/926 [==============================] - 0s 146us/step - loss: 0.2859 - precision_1: 0.1752 - val_loss: 0.2864 - val_precision_1: 0.1782\n",
      "Epoch 7/30\n",
      "926/926 [==============================] - 0s 139us/step - loss: 0.2640 - precision_1: 0.1826 - val_loss: 0.2829 - val_precision_1: 0.1849\n",
      "Epoch 8/30\n",
      "926/926 [==============================] - 0s 138us/step - loss: 0.2779 - precision_1: 0.1888 - val_loss: 0.2716 - val_precision_1: 0.1917\n",
      "Epoch 9/30\n",
      "926/926 [==============================] - 0s 142us/step - loss: 0.2722 - precision_1: 0.1997 - val_loss: 0.2631 - val_precision_1: 0.2065\n",
      "Epoch 10/30\n",
      "926/926 [==============================] - 0s 138us/step - loss: 0.2607 - precision_1: 0.2089 - val_loss: 0.2539 - val_precision_1: 0.2120\n",
      "Epoch 11/30\n",
      "926/926 [==============================] - 0s 133us/step - loss: 0.2706 - precision_1: 0.2162 - val_loss: 0.2494 - val_precision_1: 0.2204\n",
      "Epoch 12/30\n",
      "926/926 [==============================] - 0s 135us/step - loss: 0.2656 - precision_1: 0.2230 - val_loss: 0.2400 - val_precision_1: 0.2312\n",
      "Epoch 13/30\n",
      "926/926 [==============================] - 0s 135us/step - loss: 0.2377 - precision_1: 0.2407 - val_loss: 0.2306 - val_precision_1: 0.2536\n",
      "Epoch 14/30\n",
      "926/926 [==============================] - 0s 136us/step - loss: 0.2572 - precision_1: 0.2587 - val_loss: 0.2278 - val_precision_1: 0.2683\n",
      "Epoch 15/30\n",
      "926/926 [==============================] - 0s 134us/step - loss: 0.2340 - precision_1: 0.2776 - val_loss: 0.2163 - val_precision_1: 0.2855\n",
      "Epoch 16/30\n",
      "926/926 [==============================] - 0s 136us/step - loss: 0.2483 - precision_1: 0.2941 - val_loss: 0.2128 - val_precision_1: 0.3039\n",
      "Epoch 17/30\n",
      "926/926 [==============================] - 0s 132us/step - loss: 0.2429 - precision_1: 0.3100 - val_loss: 0.2085 - val_precision_1: 0.3196\n",
      "Epoch 18/30\n",
      "926/926 [==============================] - 0s 134us/step - loss: 0.2318 - precision_1: 0.3284 - val_loss: 0.2075 - val_precision_1: 0.3386\n",
      "Epoch 19/30\n",
      "926/926 [==============================] - 0s 133us/step - loss: 0.2430 - precision_1: 0.3444 - val_loss: 0.2069 - val_precision_1: 0.3523\n",
      "Epoch 20/30\n",
      "926/926 [==============================] - 0s 133us/step - loss: 0.2342 - precision_1: 0.3565 - val_loss: 0.2045 - val_precision_1: 0.3628\n",
      "Epoch 21/30\n",
      "926/926 [==============================] - 0s 134us/step - loss: 0.2265 - precision_1: 0.3697 - val_loss: 0.2028 - val_precision_1: 0.3750\n",
      "Epoch 22/30\n",
      "926/926 [==============================] - 0s 135us/step - loss: 0.2310 - precision_1: 0.3811 - val_loss: 0.2066 - val_precision_1: 0.3848\n",
      "Epoch 23/30\n",
      "926/926 [==============================] - 0s 136us/step - loss: 0.2394 - precision_1: 0.3894 - val_loss: 0.2059 - val_precision_1: 0.3936\n",
      "Epoch 24/30\n",
      "926/926 [==============================] - 0s 134us/step - loss: 0.2204 - precision_1: 0.3980 - val_loss: 0.2022 - val_precision_1: 0.4042\n",
      "Epoch 25/30\n",
      "926/926 [==============================] - 0s 135us/step - loss: 0.2176 - precision_1: 0.4113 - val_loss: 0.1980 - val_precision_1: 0.4161\n",
      "Epoch 26/30\n",
      "926/926 [==============================] - 0s 133us/step - loss: 0.2172 - precision_1: 0.4203 - val_loss: 0.1976 - val_precision_1: 0.4244\n",
      "Epoch 27/30\n",
      "926/926 [==============================] - 0s 134us/step - loss: 0.2271 - precision_1: 0.4251 - val_loss: 0.1994 - val_precision_1: 0.4283\n",
      "Epoch 28/30\n",
      "926/926 [==============================] - 0s 134us/step - loss: 0.2218 - precision_1: 0.4311 - val_loss: 0.1972 - val_precision_1: 0.4341\n",
      "Epoch 29/30\n",
      "926/926 [==============================] - 0s 135us/step - loss: 0.2150 - precision_1: 0.4361 - val_loss: 0.1959 - val_precision_1: 0.4400\n",
      "Epoch 30/30\n",
      "926/926 [==============================] - 0s 134us/step - loss: 0.2112 - precision_1: 0.4436 - val_loss: 0.1974 - val_precision_1: 0.4467\n"
     ]
    },
    {
     "data": {
      "text/plain": [
       "<keras.callbacks.callbacks.History at 0x7fe0298b4d90>"
      ]
     },
     "execution_count": 25,
     "metadata": {},
     "output_type": "execute_result"
    }
   ],
   "source": [
    "class_weight = {0:0.5, 1:0.7}\n",
    "dropout = 0.4\n",
    "modelb = keras.models.Sequential()\n",
    "modelb.add(keras.layers.Dense(100, kernel_initializer= 'he_normal',input_shape = (X.shape[1],)))\n",
    "modelb.add(keras.layers.BatchNormalization())\n",
    "modelb.add(keras.layers.Activation('relu'))\n",
    "modelb.add(Dropout(dropout))\n",
    "modelb.add(keras.layers.Dense(100, kernel_initializer= 'he_normal'))\n",
    "modelb.add(keras.layers.BatchNormalization())\n",
    "modelb.add(keras.layers.Activation('relu'))\n",
    "modelb.add(Dropout(dropout))\n",
    "modelb.add(keras.layers.Dense(100, kernel_initializer= 'he_normal'))\n",
    "modelb.add(keras.layers.BatchNormalization())\n",
    "modelb.add(keras.layers.Activation('relu'))\n",
    "modelb.add(Dropout(dropout))\n",
    "modelb.add(keras.layers.Dense(100, kernel_initializer= 'he_normal'))\n",
    "modelb.add(keras.layers.BatchNormalization())\n",
    "modelb.add(keras.layers.Activation('relu'))\n",
    "modelb.add(Dropout(dropout))\n",
    "modelb.add(keras.layers.Dense(100, kernel_initializer= 'he_normal'))\n",
    "modelb.add(keras.layers.BatchNormalization())\n",
    "modelb.add(keras.layers.Activation('relu'))\n",
    "modelb.add(Dropout(dropout))\n",
    "modelb.add(keras.layers.Dense(1, activation = 'sigmoid'))\n",
    "modelb.compile(optimizer = \"adam\", loss = 'binary_crossentropy', metrics = [tf.keras.metrics.Precision()])\n",
    "modelb.fit(X_train, y_train, epochs = 30, batch_size = 20, validation_split=0.1, class_weight = class_weight)"
   ]
  },
  {
   "cell_type": "code",
   "execution_count": 26,
   "metadata": {},
   "outputs": [
    {
     "name": "stdout",
     "output_type": "stream",
     "text": [
      "train\n",
      "              precision    recall  f1-score   support\n",
      "\n",
      "           0       0.91      0.97      0.94       863\n",
      "           1       0.78      0.50      0.61       166\n",
      "\n",
      "    accuracy                           0.90      1029\n",
      "   macro avg       0.84      0.74      0.77      1029\n",
      "weighted avg       0.89      0.90      0.89      1029\n",
      "\n",
      "test\n",
      "              precision    recall  f1-score   support\n",
      "\n",
      "           0       0.91      0.95      0.93       370\n",
      "           1       0.66      0.49      0.56        71\n",
      "\n",
      "    accuracy                           0.88       441\n",
      "   macro avg       0.78      0.72      0.75       441\n",
      "weighted avg       0.87      0.88      0.87       441\n",
      "\n"
     ]
    }
   ],
   "source": [
    "print('train')\n",
    "print(classification_report(y_train, [x >=0.5 for x in modelb.predict(X_train)]))\n",
    "print('test')\n",
    "print(classification_report(y_test, [x >=0.5 for x in modelb.predict(X_test)]))"
   ]
  },
  {
   "cell_type": "code",
   "execution_count": 27,
   "metadata": {},
   "outputs": [
    {
     "name": "stdout",
     "output_type": "stream",
     "text": [
      "Train on 926 samples, validate on 103 samples\n",
      "Epoch 1/100\n",
      "926/926 [==============================] - 1s 1ms/step - loss: 0.5978 - precision_2: 0.1894 - val_loss: 0.5510 - val_precision_2: 0.1741\n",
      "Epoch 2/100\n",
      "926/926 [==============================] - 0s 175us/step - loss: 0.4718 - precision_2: 0.1798 - val_loss: 0.4831 - val_precision_2: 0.1887\n",
      "Epoch 3/100\n",
      "926/926 [==============================] - 0s 143us/step - loss: 0.4489 - precision_2: 0.1954 - val_loss: 0.4516 - val_precision_2: 0.1954\n",
      "Epoch 4/100\n",
      "926/926 [==============================] - 0s 136us/step - loss: 0.4483 - precision_2: 0.2138 - val_loss: 0.4342 - val_precision_2: 0.2239\n",
      "Epoch 5/100\n",
      "926/926 [==============================] - 0s 136us/step - loss: 0.4308 - precision_2: 0.2290 - val_loss: 0.4232 - val_precision_2: 0.2466\n",
      "Epoch 6/100\n",
      "926/926 [==============================] - 0s 134us/step - loss: 0.4194 - precision_2: 0.2556 - val_loss: 0.4083 - val_precision_2: 0.2666\n",
      "Epoch 7/100\n",
      "926/926 [==============================] - 0s 136us/step - loss: 0.3979 - precision_2: 0.2787 - val_loss: 0.3939 - val_precision_2: 0.2937\n",
      "Epoch 8/100\n",
      "926/926 [==============================] - 0s 136us/step - loss: 0.3867 - precision_2: 0.3065 - val_loss: 0.3864 - val_precision_2: 0.3189\n",
      "Epoch 9/100\n",
      "926/926 [==============================] - 0s 136us/step - loss: 0.3952 - precision_2: 0.3337 - val_loss: 0.3778 - val_precision_2: 0.3437\n",
      "Epoch 10/100\n",
      "926/926 [==============================] - 0s 137us/step - loss: 0.3931 - precision_2: 0.3553 - val_loss: 0.3847 - val_precision_2: 0.3620\n",
      "Epoch 11/100\n",
      "926/926 [==============================] - 0s 161us/step - loss: 0.4016 - precision_2: 0.3708 - val_loss: 0.3769 - val_precision_2: 0.3791\n",
      "Epoch 12/100\n",
      "926/926 [==============================] - 0s 137us/step - loss: 0.3653 - precision_2: 0.3906 - val_loss: 0.3719 - val_precision_2: 0.4009\n",
      "Epoch 13/100\n",
      "926/926 [==============================] - 0s 132us/step - loss: 0.3785 - precision_2: 0.4067 - val_loss: 0.3716 - val_precision_2: 0.4146\n",
      "Epoch 14/100\n",
      "926/926 [==============================] - 0s 134us/step - loss: 0.3654 - precision_2: 0.4219 - val_loss: 0.3723 - val_precision_2: 0.4268\n",
      "Epoch 15/100\n",
      "926/926 [==============================] - 0s 132us/step - loss: 0.3463 - precision_2: 0.4321 - val_loss: 0.3678 - val_precision_2: 0.4407\n",
      "Epoch 16/100\n",
      "926/926 [==============================] - 0s 134us/step - loss: 0.3685 - precision_2: 0.4443 - val_loss: 0.3622 - val_precision_2: 0.4512\n",
      "Epoch 17/100\n",
      "926/926 [==============================] - 0s 134us/step - loss: 0.3615 - precision_2: 0.4547 - val_loss: 0.3706 - val_precision_2: 0.4595\n",
      "Epoch 18/100\n",
      "926/926 [==============================] - 0s 132us/step - loss: 0.3574 - precision_2: 0.4656 - val_loss: 0.3659 - val_precision_2: 0.4698\n",
      "Epoch 19/100\n",
      "926/926 [==============================] - 0s 133us/step - loss: 0.3503 - precision_2: 0.4740 - val_loss: 0.3630 - val_precision_2: 0.4801\n",
      "Epoch 20/100\n",
      "926/926 [==============================] - 0s 138us/step - loss: 0.3415 - precision_2: 0.4828 - val_loss: 0.3577 - val_precision_2: 0.4880\n",
      "Epoch 21/100\n",
      "926/926 [==============================] - 0s 131us/step - loss: 0.3479 - precision_2: 0.4906 - val_loss: 0.3520 - val_precision_2: 0.4967\n",
      "Epoch 22/100\n",
      "926/926 [==============================] - 0s 136us/step - loss: 0.3402 - precision_2: 0.4997 - val_loss: 0.3445 - val_precision_2: 0.5053\n",
      "Epoch 23/100\n",
      "926/926 [==============================] - 0s 142us/step - loss: 0.3380 - precision_2: 0.5090 - val_loss: 0.3530 - val_precision_2: 0.5102\n",
      "Epoch 24/100\n",
      "926/926 [==============================] - 0s 129us/step - loss: 0.3433 - precision_2: 0.5136 - val_loss: 0.3594 - val_precision_2: 0.5170\n",
      "Epoch 25/100\n",
      "926/926 [==============================] - 0s 135us/step - loss: 0.3423 - precision_2: 0.5177 - val_loss: 0.3620 - val_precision_2: 0.5206\n",
      "Epoch 26/100\n",
      "926/926 [==============================] - 0s 132us/step - loss: 0.3406 - precision_2: 0.5238 - val_loss: 0.3566 - val_precision_2: 0.5251\n",
      "Epoch 27/100\n",
      "926/926 [==============================] - 0s 136us/step - loss: 0.3301 - precision_2: 0.5284 - val_loss: 0.3594 - val_precision_2: 0.5308\n",
      "Epoch 28/100\n",
      "926/926 [==============================] - 0s 132us/step - loss: 0.3264 - precision_2: 0.5351 - val_loss: 0.3711 - val_precision_2: 0.5371\n",
      "Epoch 29/100\n",
      "926/926 [==============================] - 0s 134us/step - loss: 0.3112 - precision_2: 0.5388 - val_loss: 0.3660 - val_precision_2: 0.5407\n",
      "Epoch 30/100\n",
      "926/926 [==============================] - 0s 135us/step - loss: 0.3343 - precision_2: 0.5432 - val_loss: 0.3541 - val_precision_2: 0.5455\n",
      "Epoch 31/100\n",
      "926/926 [==============================] - 0s 133us/step - loss: 0.3125 - precision_2: 0.5466 - val_loss: 0.3382 - val_precision_2: 0.5483\n",
      "Epoch 32/100\n",
      "926/926 [==============================] - 0s 145us/step - loss: 0.3414 - precision_2: 0.5495 - val_loss: 0.3377 - val_precision_2: 0.5500\n",
      "Epoch 33/100\n",
      "926/926 [==============================] - 0s 148us/step - loss: 0.3250 - precision_2: 0.5520 - val_loss: 0.3398 - val_precision_2: 0.5552\n",
      "Epoch 34/100\n",
      "926/926 [==============================] - 0s 155us/step - loss: 0.3378 - precision_2: 0.5561 - val_loss: 0.3377 - val_precision_2: 0.5575\n",
      "Epoch 35/100\n",
      "926/926 [==============================] - 0s 150us/step - loss: 0.3141 - precision_2: 0.5606 - val_loss: 0.3406 - val_precision_2: 0.5624\n",
      "Epoch 36/100\n",
      "926/926 [==============================] - 0s 153us/step - loss: 0.3045 - precision_2: 0.5651 - val_loss: 0.3461 - val_precision_2: 0.5678\n",
      "Epoch 37/100\n",
      "926/926 [==============================] - 0s 138us/step - loss: 0.2975 - precision_2: 0.5701 - val_loss: 0.3468 - val_precision_2: 0.5720\n",
      "Epoch 38/100\n",
      "926/926 [==============================] - 0s 131us/step - loss: 0.3094 - precision_2: 0.5730 - val_loss: 0.3375 - val_precision_2: 0.5738\n",
      "Epoch 39/100\n",
      "926/926 [==============================] - 0s 130us/step - loss: 0.3197 - precision_2: 0.5739 - val_loss: 0.3391 - val_precision_2: 0.5748\n",
      "Epoch 40/100\n",
      "926/926 [==============================] - 0s 130us/step - loss: 0.3135 - precision_2: 0.5766 - val_loss: 0.3394 - val_precision_2: 0.5769\n",
      "Epoch 41/100\n",
      "926/926 [==============================] - 0s 132us/step - loss: 0.3067 - precision_2: 0.5780 - val_loss: 0.3362 - val_precision_2: 0.5789\n",
      "Epoch 42/100\n",
      "926/926 [==============================] - 0s 137us/step - loss: 0.2948 - precision_2: 0.5804 - val_loss: 0.3452 - val_precision_2: 0.5814\n",
      "Epoch 43/100\n",
      "926/926 [==============================] - 0s 138us/step - loss: 0.3168 - precision_2: 0.5828 - val_loss: 0.3438 - val_precision_2: 0.5833\n",
      "Epoch 44/100\n",
      "926/926 [==============================] - 0s 129us/step - loss: 0.3149 - precision_2: 0.5850 - val_loss: 0.3464 - val_precision_2: 0.5859\n",
      "Epoch 45/100\n",
      "926/926 [==============================] - 0s 135us/step - loss: 0.2973 - precision_2: 0.5872 - val_loss: 0.3491 - val_precision_2: 0.5889\n",
      "Epoch 46/100\n",
      "926/926 [==============================] - 0s 140us/step - loss: 0.3074 - precision_2: 0.5898 - val_loss: 0.3446 - val_precision_2: 0.5904\n",
      "Epoch 47/100\n",
      "926/926 [==============================] - 0s 138us/step - loss: 0.2968 - precision_2: 0.5919 - val_loss: 0.3577 - val_precision_2: 0.5933\n",
      "Epoch 48/100\n",
      "926/926 [==============================] - 0s 138us/step - loss: 0.2941 - precision_2: 0.5941 - val_loss: 0.3559 - val_precision_2: 0.5947\n",
      "Epoch 49/100\n",
      "926/926 [==============================] - 0s 131us/step - loss: 0.2865 - precision_2: 0.5958 - val_loss: 0.3517 - val_precision_2: 0.5969\n",
      "Epoch 50/100\n",
      "926/926 [==============================] - 0s 127us/step - loss: 0.3167 - precision_2: 0.5968 - val_loss: 0.3561 - val_precision_2: 0.5970\n",
      "Epoch 51/100\n",
      "926/926 [==============================] - 0s 127us/step - loss: 0.3077 - precision_2: 0.5976 - val_loss: 0.3428 - val_precision_2: 0.5984\n",
      "Epoch 52/100\n",
      "926/926 [==============================] - 0s 128us/step - loss: 0.3000 - precision_2: 0.5999 - val_loss: 0.3521 - val_precision_2: 0.6007\n",
      "Epoch 53/100\n",
      "926/926 [==============================] - 0s 128us/step - loss: 0.2852 - precision_2: 0.6019 - val_loss: 0.3497 - val_precision_2: 0.6031\n",
      "Epoch 54/100\n",
      "926/926 [==============================] - 0s 127us/step - loss: 0.2794 - precision_2: 0.6038 - val_loss: 0.3529 - val_precision_2: 0.6044\n"
     ]
    },
    {
     "name": "stdout",
     "output_type": "stream",
     "text": [
      "Epoch 55/100\n",
      "926/926 [==============================] - 0s 133us/step - loss: 0.2889 - precision_2: 0.6059 - val_loss: 0.3454 - val_precision_2: 0.6055\n",
      "Epoch 56/100\n",
      "926/926 [==============================] - 0s 129us/step - loss: 0.2851 - precision_2: 0.6070 - val_loss: 0.3521 - val_precision_2: 0.6083\n",
      "Epoch 57/100\n",
      "926/926 [==============================] - 0s 138us/step - loss: 0.2745 - precision_2: 0.6098 - val_loss: 0.3586 - val_precision_2: 0.6107\n",
      "Epoch 58/100\n",
      "926/926 [==============================] - 0s 138us/step - loss: 0.3037 - precision_2: 0.6105 - val_loss: 0.3628 - val_precision_2: 0.6108\n",
      "Epoch 59/100\n",
      "926/926 [==============================] - 0s 132us/step - loss: 0.3001 - precision_2: 0.6112 - val_loss: 0.3482 - val_precision_2: 0.6119\n",
      "Epoch 60/100\n",
      "926/926 [==============================] - 0s 127us/step - loss: 0.2927 - precision_2: 0.6134 - val_loss: 0.3503 - val_precision_2: 0.6138\n",
      "Epoch 61/100\n",
      "926/926 [==============================] - 0s 127us/step - loss: 0.2846 - precision_2: 0.6144 - val_loss: 0.3632 - val_precision_2: 0.6151\n",
      "Epoch 62/100\n",
      "926/926 [==============================] - 0s 127us/step - loss: 0.2814 - precision_2: 0.6158 - val_loss: 0.3706 - val_precision_2: 0.6164\n",
      "Epoch 63/100\n",
      "926/926 [==============================] - 0s 127us/step - loss: 0.2892 - precision_2: 0.6169 - val_loss: 0.3861 - val_precision_2: 0.6175\n",
      "Epoch 64/100\n",
      "926/926 [==============================] - 0s 128us/step - loss: 0.2881 - precision_2: 0.6182 - val_loss: 0.3639 - val_precision_2: 0.6189\n",
      "Epoch 65/100\n",
      "926/926 [==============================] - 0s 126us/step - loss: 0.2625 - precision_2: 0.6200 - val_loss: 0.3598 - val_precision_2: 0.6217\n",
      "Epoch 66/100\n",
      "926/926 [==============================] - 0s 126us/step - loss: 0.2963 - precision_2: 0.6222 - val_loss: 0.3736 - val_precision_2: 0.6224\n",
      "Epoch 67/100\n",
      "926/926 [==============================] - 0s 127us/step - loss: 0.2805 - precision_2: 0.6227 - val_loss: 0.3814 - val_precision_2: 0.6232\n",
      "Epoch 68/100\n",
      "926/926 [==============================] - 0s 128us/step - loss: 0.2886 - precision_2: 0.6241 - val_loss: 0.3867 - val_precision_2: 0.6243\n",
      "Epoch 69/100\n",
      "926/926 [==============================] - 0s 128us/step - loss: 0.2742 - precision_2: 0.6252 - val_loss: 0.3866 - val_precision_2: 0.6258\n",
      "Epoch 70/100\n",
      "926/926 [==============================] - 0s 128us/step - loss: 0.2884 - precision_2: 0.6263 - val_loss: 0.3722 - val_precision_2: 0.6271\n",
      "Epoch 71/100\n",
      "926/926 [==============================] - 0s 130us/step - loss: 0.2778 - precision_2: 0.6281 - val_loss: 0.3625 - val_precision_2: 0.6287\n",
      "Epoch 72/100\n",
      "926/926 [==============================] - 0s 125us/step - loss: 0.2768 - precision_2: 0.6290 - val_loss: 0.3722 - val_precision_2: 0.6295\n",
      "Epoch 73/100\n",
      "926/926 [==============================] - 0s 126us/step - loss: 0.2675 - precision_2: 0.6304 - val_loss: 0.3692 - val_precision_2: 0.6305\n",
      "Epoch 74/100\n",
      "926/926 [==============================] - 0s 137us/step - loss: 0.2759 - precision_2: 0.6312 - val_loss: 0.3744 - val_precision_2: 0.6315\n",
      "Epoch 75/100\n",
      "926/926 [==============================] - 0s 127us/step - loss: 0.2640 - precision_2: 0.6322 - val_loss: 0.3622 - val_precision_2: 0.6328\n",
      "Epoch 76/100\n",
      "926/926 [==============================] - 0s 127us/step - loss: 0.3022 - precision_2: 0.6327 - val_loss: 0.3550 - val_precision_2: 0.6333\n",
      "Epoch 77/100\n",
      "926/926 [==============================] - 0s 127us/step - loss: 0.2739 - precision_2: 0.6335 - val_loss: 0.3578 - val_precision_2: 0.6341\n",
      "Epoch 78/100\n",
      "926/926 [==============================] - 0s 130us/step - loss: 0.2640 - precision_2: 0.6346 - val_loss: 0.3692 - val_precision_2: 0.6352\n",
      "Epoch 79/100\n",
      "926/926 [==============================] - 0s 129us/step - loss: 0.2850 - precision_2: 0.6356 - val_loss: 0.3703 - val_precision_2: 0.6363\n",
      "Epoch 80/100\n",
      "926/926 [==============================] - 0s 128us/step - loss: 0.2792 - precision_2: 0.6359 - val_loss: 0.3859 - val_precision_2: 0.6360\n",
      "Epoch 81/100\n",
      "926/926 [==============================] - 0s 129us/step - loss: 0.2703 - precision_2: 0.6369 - val_loss: 0.3939 - val_precision_2: 0.6372\n",
      "Epoch 82/100\n",
      "926/926 [==============================] - 0s 137us/step - loss: 0.2774 - precision_2: 0.6379 - val_loss: 0.3949 - val_precision_2: 0.6383\n",
      "Epoch 83/100\n",
      "926/926 [==============================] - 0s 157us/step - loss: 0.2792 - precision_2: 0.6385 - val_loss: 0.3747 - val_precision_2: 0.6387\n",
      "Epoch 84/100\n",
      "926/926 [==============================] - 0s 141us/step - loss: 0.2506 - precision_2: 0.6393 - val_loss: 0.3925 - val_precision_2: 0.6397\n",
      "Epoch 85/100\n",
      "926/926 [==============================] - 0s 149us/step - loss: 0.2535 - precision_2: 0.6401 - val_loss: 0.4099 - val_precision_2: 0.6406\n",
      "Epoch 86/100\n",
      "926/926 [==============================] - 0s 131us/step - loss: 0.2633 - precision_2: 0.6410 - val_loss: 0.4254 - val_precision_2: 0.6417\n",
      "Epoch 87/100\n",
      "926/926 [==============================] - 0s 129us/step - loss: 0.2564 - precision_2: 0.6424 - val_loss: 0.4061 - val_precision_2: 0.6426\n",
      "Epoch 88/100\n",
      "926/926 [==============================] - 0s 131us/step - loss: 0.2919 - precision_2: 0.6428 - val_loss: 0.3941 - val_precision_2: 0.6428\n",
      "Epoch 89/100\n",
      "926/926 [==============================] - 0s 129us/step - loss: 0.2582 - precision_2: 0.6437 - val_loss: 0.4072 - val_precision_2: 0.6441\n",
      "Epoch 90/100\n",
      "926/926 [==============================] - 0s 131us/step - loss: 0.2590 - precision_2: 0.6447 - val_loss: 0.4050 - val_precision_2: 0.6450\n",
      "Epoch 91/100\n",
      "926/926 [==============================] - 0s 131us/step - loss: 0.2619 - precision_2: 0.6455 - val_loss: 0.3945 - val_precision_2: 0.6464\n",
      "Epoch 92/100\n",
      "926/926 [==============================] - 0s 137us/step - loss: 0.2795 - precision_2: 0.6466 - val_loss: 0.3862 - val_precision_2: 0.6464\n",
      "Epoch 93/100\n",
      "926/926 [==============================] - 0s 139us/step - loss: 0.2430 - precision_2: 0.6473 - val_loss: 0.3931 - val_precision_2: 0.6476\n",
      "Epoch 94/100\n",
      "926/926 [==============================] - 0s 132us/step - loss: 0.2678 - precision_2: 0.6481 - val_loss: 0.4037 - val_precision_2: 0.6487\n",
      "Epoch 95/100\n",
      "926/926 [==============================] - 0s 131us/step - loss: 0.2630 - precision_2: 0.6494 - val_loss: 0.3962 - val_precision_2: 0.6498\n",
      "Epoch 96/100\n",
      "926/926 [==============================] - 0s 132us/step - loss: 0.2618 - precision_2: 0.6502 - val_loss: 0.3918 - val_precision_2: 0.6499\n",
      "Epoch 97/100\n",
      "926/926 [==============================] - 0s 131us/step - loss: 0.2522 - precision_2: 0.6503 - val_loss: 0.3973 - val_precision_2: 0.6509\n",
      "Epoch 98/100\n",
      "926/926 [==============================] - 0s 135us/step - loss: 0.2276 - precision_2: 0.6519 - val_loss: 0.4127 - val_precision_2: 0.6521\n",
      "Epoch 99/100\n",
      "926/926 [==============================] - 0s 135us/step - loss: 0.2639 - precision_2: 0.6524 - val_loss: 0.4168 - val_precision_2: 0.6527\n",
      "Epoch 100/100\n",
      "926/926 [==============================] - 0s 131us/step - loss: 0.2523 - precision_2: 0.6534 - val_loss: 0.4509 - val_precision_2: 0.6539\n"
     ]
    },
    {
     "data": {
      "text/plain": [
       "<keras.callbacks.callbacks.History at 0x7fe029b9f7f0>"
      ]
     },
     "execution_count": 27,
     "metadata": {},
     "output_type": "execute_result"
    }
   ],
   "source": [
    "dropout = 0.3\n",
    "modelc = keras.models.Sequential()\n",
    "modelc.add(keras.layers.Dense(100, kernel_initializer= 'he_normal',input_shape = (X.shape[1],)))\n",
    "modelc.add(keras.layers.BatchNormalization())\n",
    "modelc.add(keras.layers.Activation('relu'))\n",
    "modelc.add(Dropout(dropout))\n",
    "modelc.add(keras.layers.Dense(100, kernel_initializer= 'he_normal'))\n",
    "modelc.add(keras.layers.BatchNormalization())\n",
    "modelc.add(keras.layers.Activation('relu'))\n",
    "modelc.add(Dropout(dropout))\n",
    "modelc.add(keras.layers.Dense(100, kernel_initializer= 'he_normal'))\n",
    "modelc.add(keras.layers.BatchNormalization())\n",
    "modelc.add(keras.layers.Activation('relu'))\n",
    "modelc.add(Dropout(dropout))\n",
    "modelc.add(keras.layers.Dense(100, kernel_initializer= 'he_normal'))\n",
    "modelc.add(keras.layers.BatchNormalization())\n",
    "modelc.add(keras.layers.Activation('relu'))\n",
    "modelc.add(Dropout(dropout))\n",
    "modelc.add(keras.layers.Dense(100, kernel_initializer= 'he_normal'))\n",
    "modelc.add(keras.layers.BatchNormalization())\n",
    "modelc.add(keras.layers.Activation('relu'))\n",
    "modelc.add(Dropout(dropout))\n",
    "modelc.add(keras.layers.Dense(1, activation = 'sigmoid'))\n",
    "modelc.compile(optimizer = \"adam\", loss = 'binary_crossentropy', metrics = [tf.keras.metrics.Precision()])\n",
    "modelc.fit(X_train, y_train, epochs = 100, batch_size = 20, validation_split=0.1, class_weight = 'balanced')"
   ]
  },
  {
   "cell_type": "code",
   "execution_count": 28,
   "metadata": {},
   "outputs": [
    {
     "name": "stdout",
     "output_type": "stream",
     "text": [
      "train\n",
      "              precision    recall  f1-score   support\n",
      "\n",
      "           0       0.92      0.99      0.95       863\n",
      "           1       0.92      0.55      0.69       166\n",
      "\n",
      "    accuracy                           0.92      1029\n",
      "   macro avg       0.92      0.77      0.82      1029\n",
      "weighted avg       0.92      0.92      0.91      1029\n",
      "\n",
      "test\n",
      "              precision    recall  f1-score   support\n",
      "\n",
      "           0       0.89      0.98      0.93       370\n",
      "           1       0.78      0.35      0.49        71\n",
      "\n",
      "    accuracy                           0.88       441\n",
      "   macro avg       0.83      0.67      0.71       441\n",
      "weighted avg       0.87      0.88      0.86       441\n",
      "\n"
     ]
    }
   ],
   "source": [
    "print('train')\n",
    "print(classification_report(y_train, [x >=0.5 for x in modelc.predict(X_train)]))\n",
    "print('test')\n",
    "print(classification_report(y_test, [x >=0.5 for x in modelc.predict(X_test)]))"
   ]
  },
  {
   "cell_type": "code",
   "execution_count": 29,
   "metadata": {},
   "outputs": [
    {
     "name": "stdout",
     "output_type": "stream",
     "text": [
      "Train on 926 samples, validate on 103 samples\n",
      "Epoch 1/30\n",
      "926/926 [==============================] - 0s 402us/step - loss: 0.6870 - precision_3: 0.1645 - val_loss: 0.4989 - val_precision_3: 0.1933\n",
      "Epoch 2/30\n",
      "926/926 [==============================] - 0s 88us/step - loss: 0.4587 - precision_3: 0.1952 - val_loss: 0.4765 - val_precision_3: 0.2000\n",
      "Epoch 3/30\n",
      "926/926 [==============================] - 0s 69us/step - loss: 0.3885 - precision_3: 0.2126 - val_loss: 0.4530 - val_precision_3: 0.2271\n",
      "Epoch 4/30\n",
      "926/926 [==============================] - 0s 77us/step - loss: 0.3932 - precision_3: 0.2435 - val_loss: 0.4308 - val_precision_3: 0.2571\n",
      "Epoch 5/30\n",
      "926/926 [==============================] - 0s 67us/step - loss: 0.3854 - precision_3: 0.2774 - val_loss: 0.4152 - val_precision_3: 0.2874\n",
      "Epoch 6/30\n",
      "926/926 [==============================] - 0s 74us/step - loss: 0.3606 - precision_3: 0.3062 - val_loss: 0.4071 - val_precision_3: 0.3183\n",
      "Epoch 7/30\n",
      "926/926 [==============================] - 0s 65us/step - loss: 0.3677 - precision_3: 0.3296 - val_loss: 0.3848 - val_precision_3: 0.3404\n",
      "Epoch 8/30\n",
      "926/926 [==============================] - 0s 64us/step - loss: 0.3450 - precision_3: 0.3552 - val_loss: 0.3800 - val_precision_3: 0.3706\n",
      "Epoch 9/30\n",
      "926/926 [==============================] - 0s 64us/step - loss: 0.3477 - precision_3: 0.3810 - val_loss: 0.3674 - val_precision_3: 0.3928\n",
      "Epoch 10/30\n",
      "926/926 [==============================] - 0s 66us/step - loss: 0.3310 - precision_3: 0.4050 - val_loss: 0.3633 - val_precision_3: 0.4135\n",
      "Epoch 11/30\n",
      "926/926 [==============================] - 0s 60us/step - loss: 0.3413 - precision_3: 0.4213 - val_loss: 0.3568 - val_precision_3: 0.4300\n",
      "Epoch 12/30\n",
      "926/926 [==============================] - 0s 65us/step - loss: 0.3407 - precision_3: 0.4365 - val_loss: 0.3540 - val_precision_3: 0.4453\n",
      "Epoch 13/30\n",
      "926/926 [==============================] - 0s 60us/step - loss: 0.3429 - precision_3: 0.4531 - val_loss: 0.3539 - val_precision_3: 0.4581\n",
      "Epoch 14/30\n",
      "926/926 [==============================] - 0s 61us/step - loss: 0.3002 - precision_3: 0.4662 - val_loss: 0.3556 - val_precision_3: 0.4765\n",
      "Epoch 15/30\n",
      "926/926 [==============================] - 0s 60us/step - loss: 0.3183 - precision_3: 0.4834 - val_loss: 0.3532 - val_precision_3: 0.4910\n",
      "Epoch 16/30\n",
      "926/926 [==============================] - 0s 65us/step - loss: 0.3163 - precision_3: 0.4997 - val_loss: 0.3516 - val_precision_3: 0.5061\n",
      "Epoch 17/30\n",
      "926/926 [==============================] - 0s 59us/step - loss: 0.3402 - precision_3: 0.5120 - val_loss: 0.3436 - val_precision_3: 0.5137\n",
      "Epoch 18/30\n",
      "926/926 [==============================] - 0s 59us/step - loss: 0.3195 - precision_3: 0.5198 - val_loss: 0.3405 - val_precision_3: 0.5257\n",
      "Epoch 19/30\n",
      "926/926 [==============================] - 0s 60us/step - loss: 0.3081 - precision_3: 0.5316 - val_loss: 0.3429 - val_precision_3: 0.5366\n",
      "Epoch 20/30\n",
      "926/926 [==============================] - 0s 73us/step - loss: 0.3171 - precision_3: 0.5413 - val_loss: 0.3454 - val_precision_3: 0.5421\n",
      "Epoch 21/30\n",
      "926/926 [==============================] - 0s 72us/step - loss: 0.3242 - precision_3: 0.5443 - val_loss: 0.3450 - val_precision_3: 0.5498\n",
      "Epoch 22/30\n",
      "926/926 [==============================] - 0s 71us/step - loss: 0.3122 - precision_3: 0.5525 - val_loss: 0.3478 - val_precision_3: 0.5539\n",
      "Epoch 23/30\n",
      "926/926 [==============================] - 0s 70us/step - loss: 0.3235 - precision_3: 0.5570 - val_loss: 0.3469 - val_precision_3: 0.5596\n",
      "Epoch 24/30\n",
      "926/926 [==============================] - 0s 67us/step - loss: 0.3163 - precision_3: 0.5623 - val_loss: 0.3460 - val_precision_3: 0.5659\n",
      "Epoch 25/30\n",
      "926/926 [==============================] - 0s 75us/step - loss: 0.2993 - precision_3: 0.5694 - val_loss: 0.3407 - val_precision_3: 0.5721\n",
      "Epoch 26/30\n",
      "926/926 [==============================] - 0s 74us/step - loss: 0.2967 - precision_3: 0.5748 - val_loss: 0.3430 - val_precision_3: 0.5778\n",
      "Epoch 27/30\n",
      "926/926 [==============================] - 0s 71us/step - loss: 0.3134 - precision_3: 0.5813 - val_loss: 0.3411 - val_precision_3: 0.5830\n",
      "Epoch 28/30\n",
      "926/926 [==============================] - 0s 70us/step - loss: 0.3133 - precision_3: 0.5858 - val_loss: 0.3439 - val_precision_3: 0.5893\n",
      "Epoch 29/30\n",
      "926/926 [==============================] - 0s 70us/step - loss: 0.3009 - precision_3: 0.5923 - val_loss: 0.3392 - val_precision_3: 0.5951\n",
      "Epoch 30/30\n",
      "926/926 [==============================] - 0s 75us/step - loss: 0.2927 - precision_3: 0.5991 - val_loss: 0.3403 - val_precision_3: 0.6016\n"
     ]
    },
    {
     "data": {
      "text/plain": [
       "<keras.callbacks.callbacks.History at 0x7fdfda515520>"
      ]
     },
     "execution_count": 29,
     "metadata": {},
     "output_type": "execute_result"
    }
   ],
   "source": [
    "dropout = 0.2\n",
    "modeld = keras.models.Sequential()\n",
    "modeld.add(keras.layers.Dense(100, kernel_initializer= 'he_normal',input_shape = (X.shape[1],)))\n",
    "modeld.add(keras.layers.BatchNormalization())\n",
    "modeld.add(Dropout(dropout))\n",
    "modeld.add(keras.layers.Activation('relu'))\n",
    "modeld.add(Dropout(dropout))\n",
    "modeld.add(keras.layers.Dense(1, activation = 'sigmoid'))\n",
    "modeld.compile(optimizer = \"adam\", loss = 'binary_crossentropy', metrics = [tf.keras.metrics.Precision()])\n",
    "modeld.fit(X_train, y_train, epochs = 30, batch_size = 20, validation_split=0.1)"
   ]
  },
  {
   "cell_type": "code",
   "execution_count": 30,
   "metadata": {},
   "outputs": [
    {
     "name": "stdout",
     "output_type": "stream",
     "text": [
      "train\n",
      "              precision    recall  f1-score   support\n",
      "\n",
      "           0       0.90      0.99      0.94       863\n",
      "           1       0.89      0.40      0.56       166\n",
      "\n",
      "    accuracy                           0.90      1029\n",
      "   macro avg       0.89      0.70      0.75      1029\n",
      "weighted avg       0.90      0.90      0.88      1029\n",
      "\n",
      "test\n",
      "              precision    recall  f1-score   support\n",
      "\n",
      "           0       0.89      0.98      0.93       370\n",
      "           1       0.77      0.38      0.51        71\n",
      "\n",
      "    accuracy                           0.88       441\n",
      "   macro avg       0.83      0.68      0.72       441\n",
      "weighted avg       0.87      0.88      0.86       441\n",
      "\n"
     ]
    }
   ],
   "source": [
    "print('train')\n",
    "print(classification_report(y_train, [x >=0.5 for x in modeld.predict(X_train)]))\n",
    "print('test')\n",
    "print(classification_report(y_test, [x >=0.5 for x in modeld.predict(X_test)]))"
   ]
  },
  {
   "cell_type": "code",
   "execution_count": 31,
   "metadata": {},
   "outputs": [
    {
     "name": "stdout",
     "output_type": "stream",
     "text": [
      "Train on 926 samples, validate on 103 samples\n",
      "Epoch 1/30\n",
      "926/926 [==============================] - 0s 437us/step - loss: 0.2285 - precision_4: 0.1715 - val_loss: 0.1971 - val_precision_4: 0.2162\n",
      "Epoch 2/30\n",
      "926/926 [==============================] - 0s 79us/step - loss: 0.1852 - precision_4: 0.2076 - val_loss: 0.1852 - val_precision_4: 0.1951\n",
      "Epoch 3/30\n",
      "926/926 [==============================] - 0s 70us/step - loss: 0.1705 - precision_4: 0.1951 - val_loss: 0.1750 - val_precision_4: 0.1951\n",
      "Epoch 4/30\n",
      "926/926 [==============================] - 0s 78us/step - loss: 0.1574 - precision_4: 0.2245 - val_loss: 0.1673 - val_precision_4: 0.2500\n",
      "Epoch 5/30\n",
      "926/926 [==============================] - 0s 74us/step - loss: 0.1528 - precision_4: 0.2732 - val_loss: 0.1599 - val_precision_4: 0.3200\n",
      "Epoch 6/30\n",
      "926/926 [==============================] - 0s 73us/step - loss: 0.1460 - precision_4: 0.3546 - val_loss: 0.1532 - val_precision_4: 0.3750\n",
      "Epoch 7/30\n",
      "926/926 [==============================] - 0s 72us/step - loss: 0.1471 - precision_4: 0.4081 - val_loss: 0.1491 - val_precision_4: 0.4286\n",
      "Epoch 8/30\n",
      "926/926 [==============================] - 0s 79us/step - loss: 0.1458 - precision_4: 0.4476 - val_loss: 0.1441 - val_precision_4: 0.4765\n",
      "Epoch 9/30\n",
      "926/926 [==============================] - 0s 72us/step - loss: 0.1499 - precision_4: 0.4923 - val_loss: 0.1431 - val_precision_4: 0.5268\n",
      "Epoch 10/30\n",
      "926/926 [==============================] - 0s 75us/step - loss: 0.1444 - precision_4: 0.5397 - val_loss: 0.1417 - val_precision_4: 0.5627\n",
      "Epoch 11/30\n",
      "926/926 [==============================] - 0s 76us/step - loss: 0.1427 - precision_4: 0.5759 - val_loss: 0.1407 - val_precision_4: 0.5916\n",
      "Epoch 12/30\n",
      "926/926 [==============================] - 0s 75us/step - loss: 0.1391 - precision_4: 0.6077 - val_loss: 0.1401 - val_precision_4: 0.6220\n",
      "Epoch 13/30\n",
      "926/926 [==============================] - 0s 74us/step - loss: 0.1330 - precision_4: 0.6264 - val_loss: 0.1403 - val_precision_4: 0.6267\n",
      "Epoch 14/30\n",
      "926/926 [==============================] - 0s 74us/step - loss: 0.1356 - precision_4: 0.6386 - val_loss: 0.1397 - val_precision_4: 0.6496\n",
      "Epoch 15/30\n",
      "926/926 [==============================] - 0s 75us/step - loss: 0.1389 - precision_4: 0.6669 - val_loss: 0.1397 - val_precision_4: 0.6768\n",
      "Epoch 16/30\n",
      "926/926 [==============================] - 0s 75us/step - loss: 0.1329 - precision_4: 0.6884 - val_loss: 0.1392 - val_precision_4: 0.6990\n",
      "Epoch 17/30\n",
      "926/926 [==============================] - 0s 72us/step - loss: 0.1350 - precision_4: 0.7074 - val_loss: 0.1394 - val_precision_4: 0.7187\n",
      "Epoch 18/30\n",
      "926/926 [==============================] - 0s 69us/step - loss: 0.1336 - precision_4: 0.7273 - val_loss: 0.1390 - val_precision_4: 0.7321\n",
      "Epoch 19/30\n",
      "926/926 [==============================] - 0s 68us/step - loss: 0.1294 - precision_4: 0.7378 - val_loss: 0.1384 - val_precision_4: 0.7403\n",
      "Epoch 20/30\n",
      "926/926 [==============================] - 0s 68us/step - loss: 0.1280 - precision_4: 0.7488 - val_loss: 0.1378 - val_precision_4: 0.7517\n",
      "Epoch 21/30\n",
      "926/926 [==============================] - 0s 66us/step - loss: 0.1260 - precision_4: 0.7582 - val_loss: 0.1383 - val_precision_4: 0.7632\n",
      "Epoch 22/30\n",
      "926/926 [==============================] - 0s 65us/step - loss: 0.1282 - precision_4: 0.7671 - val_loss: 0.1367 - val_precision_4: 0.7710\n",
      "Epoch 23/30\n",
      "926/926 [==============================] - 0s 64us/step - loss: 0.1231 - precision_4: 0.7758 - val_loss: 0.1360 - val_precision_4: 0.7810\n",
      "Epoch 24/30\n",
      "926/926 [==============================] - 0s 64us/step - loss: 0.1333 - precision_4: 0.7825 - val_loss: 0.1364 - val_precision_4: 0.7846\n",
      "Epoch 25/30\n",
      "926/926 [==============================] - 0s 70us/step - loss: 0.1277 - precision_4: 0.7897 - val_loss: 0.1367 - val_precision_4: 0.7944\n",
      "Epoch 26/30\n",
      "926/926 [==============================] - 0s 72us/step - loss: 0.1318 - precision_4: 0.7985 - val_loss: 0.1381 - val_precision_4: 0.8014\n",
      "Epoch 27/30\n",
      "926/926 [==============================] - 0s 71us/step - loss: 0.1272 - precision_4: 0.8023 - val_loss: 0.1371 - val_precision_4: 0.8033\n",
      "Epoch 28/30\n",
      "926/926 [==============================] - 0s 72us/step - loss: 0.1234 - precision_4: 0.8035 - val_loss: 0.1386 - val_precision_4: 0.8063\n",
      "Epoch 29/30\n",
      "926/926 [==============================] - 0s 64us/step - loss: 0.1267 - precision_4: 0.8080 - val_loss: 0.1397 - val_precision_4: 0.8083\n",
      "Epoch 30/30\n",
      "926/926 [==============================] - 0s 58us/step - loss: 0.1249 - precision_4: 0.8110 - val_loss: 0.1382 - val_precision_4: 0.8117\n"
     ]
    },
    {
     "data": {
      "text/plain": [
       "<keras.callbacks.callbacks.History at 0x7fdfebd8b5e0>"
      ]
     },
     "execution_count": 31,
     "metadata": {},
     "output_type": "execute_result"
    }
   ],
   "source": [
    "class_weight= {0:0.7, 1:0.3}\n",
    "dropout = 0.2\n",
    "modeld = keras.models.Sequential()\n",
    "modeld.add(keras.layers.Dense(100, kernel_initializer= 'he_normal',input_shape = (X.shape[1],)))\n",
    "modeld.add(Dropout(dropout))\n",
    "modeld.add(keras.layers.BatchNormalization())\n",
    "modeld.add(Dropout(dropout))\n",
    "modeld.add(keras.layers.Activation('relu'))\n",
    "modeld.add(Dropout(dropout))\n",
    "modeld.add(keras.layers.Dense(1, activation = 'sigmoid'))\n",
    "modeld.compile(optimizer = \"adam\", loss = 'binary_crossentropy', metrics = [tf.keras.metrics.Precision()])\n",
    "modeld.fit(X_train, y_train, epochs = 30, batch_size = 20, validation_split=0.1, class_weight = class_weight)"
   ]
  },
  {
   "cell_type": "code",
   "execution_count": 32,
   "metadata": {},
   "outputs": [
    {
     "name": "stdout",
     "output_type": "stream",
     "text": [
      "train\n",
      "              precision    recall  f1-score   support\n",
      "\n",
      "           0       0.88      1.00      0.94       863\n",
      "           1       0.96      0.30      0.46       166\n",
      "\n",
      "    accuracy                           0.89      1029\n",
      "   macro avg       0.92      0.65      0.70      1029\n",
      "weighted avg       0.89      0.89      0.86      1029\n",
      "\n",
      "test\n",
      "              precision    recall  f1-score   support\n",
      "\n",
      "           0       0.88      0.99      0.93       370\n",
      "           1       0.84      0.30      0.44        71\n",
      "\n",
      "    accuracy                           0.88       441\n",
      "   macro avg       0.86      0.64      0.68       441\n",
      "weighted avg       0.87      0.88      0.85       441\n",
      "\n"
     ]
    }
   ],
   "source": [
    "print('train')\n",
    "print(classification_report(y_train, [x >=0.5 for x in modeld.predict(X_train)]))\n",
    "print('test')\n",
    "print(classification_report(y_test, [x >=0.5 for x in modeld.predict(X_test)]))"
   ]
  },
  {
   "cell_type": "code",
   "execution_count": 33,
   "metadata": {},
   "outputs": [],
   "source": [
    "###For Deep Learning we are going to be using modeld\n",
    "###For machine Learning use svc\n",
    "###VC for very high precision and acceptable recall"
   ]
  },
  {
   "cell_type": "code",
   "execution_count": 34,
   "metadata": {},
   "outputs": [],
   "source": [
    "###Example of how to use Machine Learning Model - will talk about SVC"
   ]
  },
  {
   "cell_type": "code",
   "execution_count": 50,
   "metadata": {},
   "outputs": [
    {
     "data": {
      "image/png": "[encoded data removed]",
      "text/plain": [
       "<Figure size 1440x720 with 1 Axes>"
      ]
     },
     "metadata": {
      "needs_background": "light"
     },
     "output_type": "display_data"
    }
   ],
   "source": [
    "plt.figure(figsize=(20,10))\n",
    "mutiplication = list(X_test.iloc[0])*svc.coef_[0]\n",
    "# mutiplication_abs = np.abs(mutiplication)\n",
    "indexes = np.where(mutiplication <= -0.3)\n",
    "plt.barh(X_train.columns,mutiplication, color = '#FFa5a5', linewidth = 1, edgecolor = 'black')\n",
    "plt.barh(X_train.columns[indexes],mutiplication[indexes], color = '#9fadfa', linewidth = 1, edgecolor = 'black')\n",
    "plt.legend(['Affecting', ' Not Affecting'])\n",
    "plt.title('Factors Affecting the Attrition Problem for this Employee')\n",
    "plt.savefig('Factors.png')"
   ]
  },
  {
   "cell_type": "code",
   "execution_count": 48,
   "metadata": {},
   "outputs": [
    {
     "data": {
      "text/plain": [
       "[('Age', -1.1702826940198803),\n",
       " ('BusinessTravel', 0.6956480875197286),\n",
       " ('Department', 0.5457153870831988),\n",
       " ('DistanceFromHome', 0.674852644171164),\n",
       " ('Gender', 0.1288764888692624),\n",
       " ('JobInvolvement', -0.858109687750372),\n",
       " ('JobRole', -0.9689650948879223),\n",
       " ('MaritalStatus', -0.09619114111732685),\n",
       " ('MonthlyIncome', 0.01265262733752437),\n",
       " ('NumCompaniesWorked', 1.0273659479738066),\n",
       " ('OverTime', 1.041431318501914),\n",
       " ('PercentSalaryHike', 0.1005654949384096),\n",
       " ('StockOptionLevel', -0.7842926573758184),\n",
       " ('TotalWorkingYears', -1.2313242874890167),\n",
       " ('TrainingTimesLastYear', -0.4892138701975559),\n",
       " ('WorkLifeBalance', -0.5686634812869675),\n",
       " ('YearsAtCompany', -0.40124367618727885),\n",
       " ('YearsInCurrentRole', -1.2022445678776261),\n",
       " ('YearsSinceLastPromotion', 1.707096049398664),\n",
       " ('YearsWithCurrManager', -0.7036201180812487),\n",
       " ('TotalJobSatisfcation', -1.955425340067796)]"
      ]
     },
     "execution_count": 48,
     "metadata": {},
     "output_type": "execute_result"
    }
   ],
   "source": [
    "list(zip(X_test.columns,svc.coef_[0]))"
   ]
  },
  {
   "cell_type": "code",
   "execution_count": null,
   "metadata": {},
   "outputs": [],
   "source": []
  },
  {
   "cell_type": "code",
   "execution_count": null,
   "metadata": {},
   "outputs": [],
   "source": []
  }
 ],
 "metadata": {
  "kernelspec": {
   "display_name": "Python 3",
   "language": "python",
   "name": "python3"
  },
  "language_info": {
   "codemirror_mode": {
    "name": "ipython",
    "version": 3
   },
   "file_extension": ".py",
   "mimetype": "text/x-python",
   "name": "python",
   "nbconvert_exporter": "python",
   "pygments_lexer": "ipython3",
   "version": "3.8.3"
  }
 },
 "nbformat": 4,
 "nbformat_minor": 4
}
