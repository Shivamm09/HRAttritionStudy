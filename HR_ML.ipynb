{
 "cells": [
  {
   "cell_type": "code",
   "execution_count": 1,
   "metadata": {},
   "outputs": [
    {
     "name": "stderr",
     "output_type": "stream",
     "text": [
      "Using TensorFlow backend.\n"
     ]
    }
   ],
   "source": [
    "import pandas as pd\n",
    "import numpy as np\n",
    "import sklearn\n",
    "from sklearn.model_selection import train_test_split\n",
    "from sklearn.linear_model import LogisticRegression\n",
    "from sklearn.model_selection import cross_val_predict\n",
    "from sklearn.metrics import classification_report\n",
    "from sklearn.metrics import precision_recall_curve\n",
    "from sklearn.metrics import roc_curve\n",
    "from sklearn.metrics import roc_auc_score\n",
    "import matplotlib.pyplot as plt\n",
    "from sklearn.metrics import accuracy_score\n",
    "from sklearn.model_selection import GridSearchCV\n",
    "from sklearn.ensemble import RandomForestClassifier\n",
    "from sklearn.svm import SVC\n",
    "from sklearn import preprocessing\n",
    "from sklearn.preprocessing import StandardScaler\n",
    "from sklearn.naive_bayes import GaussianNB\n",
    "import xgboost as xgb\n",
    "import keras \n",
    "import tensorflow as tf\n",
    "from keras.layers import Dropout\n",
    "import pandas as pd\n",
    "import numpy as np\n",
    "from scipy.stats import chisquare\n",
    "import seaborn as sns\n",
    "import matplotlib.pyplot as plt\n",
    "import scipy\n",
    "from sklearn.decomposition import PCA\n",
    "from sklearn.feature_selection import SelectKBest, chi2\n",
    "from sklearn.dummy import DummyClassifier"
   ]
  },
  {
   "cell_type": "code",
   "execution_count": 2,
   "metadata": {},
   "outputs": [],
   "source": [
    "data = pd.read_csv(\"WA_Fn-UseC_-HR-Employee-Attrition.csv\")\n",
    "###The following columns have no information provided, and they seems to be incosistent with what \n",
    "## some of the data columns in the columns already have\n",
    "for x in data.columns:\n",
    "    if x[-4:] == \"Rate\":\n",
    "        data = data.drop(x, axis =1)\n",
    "###The following data does not provide any relevance to the data as they are either \n",
    "### all have the same number, or the value does not provide any information\n",
    "data = data.drop([\"EmployeeCount\", \"EmployeeNumber\", \"StandardHours\", \"Over18\", \"EducationField\", 'Education', 'JobLevel'], axis =1 )"
   ]
  },
  {
   "cell_type": "code",
   "execution_count": 3,
   "metadata": {},
   "outputs": [],
   "source": [
    "mapping = {\"Yes\": 1, \"No\":0}\n",
    "data['StockOptionLevel'] = np.where(data['StockOptionLevel'] >0, 1,0)\n",
    "data['OverTime'] = data['OverTime'].map(mapping)\n",
    "data['Gender'] = np.where(data[\"Gender\"] == \"Male\", 1,0)\n",
    "data['BusinessTravel'] = np.where(data['BusinessTravel'] == 'Travel_Frequently', 1,0)\n",
    "data['MaritalStatus'] = np.where(data['MaritalStatus'] == 'Single',0,1)\n",
    "data['TotalJobSatisfcation'] = data['EnvironmentSatisfaction'] + data['JobSatisfaction'] + data['RelationshipSatisfaction']\n",
    "data = data.drop(['EnvironmentSatisfaction', 'JobSatisfaction', 'RelationshipSatisfaction', 'PerformanceRating'], axis =1 )"
   ]
  },
  {
   "cell_type": "code",
   "execution_count": 4,
   "metadata": {},
   "outputs": [],
   "source": [
    "role_to_salary = {}\n",
    "for x in data['JobRole'].unique():\n",
    "    subset = data[data['JobRole'] == x]\n",
    "    role_to_salary[x] = np.mean(subset['MonthlyIncome'])\n",
    "\n",
    "data['JobRole'] = data['JobRole'].map(role_to_salary)\n",
    "\n",
    "\n",
    "department_to_salary = {}\n",
    "for x in data['Department'].unique():\n",
    "    subset = data[data['Department'] == x]\n",
    "    department_to_salary[x] = np.mean(subset['MonthlyIncome'])\n",
    "\n",
    "data['Department'] = data['Department'].map(department_to_salary)"
   ]
  },
  {
   "cell_type": "code",
   "execution_count": 5,
   "metadata": {},
   "outputs": [],
   "source": [
    "# categorical = list(data.drop(['Attrition'], axis =1).describe(include = ['O']).columns)\n",
    "numerical = list(data.describe().columns)\n",
    "x = data[numerical].values\n",
    "min_max_scaler = preprocessing.MinMaxScaler()\n",
    "x_scaled = min_max_scaler.fit_transform(x)\n",
    "df = pd.DataFrame(x_scaled)\n",
    "df.columns = numerical\n",
    "# for x in categorical:\n",
    "#     df[x] = data[x]\n",
    "# df = pd.get_dummies(df, columns = categorical)\n",
    "mapping = {\"Yes\": 1, \"No\":0}\n",
    "df[\"Attrition\"] = data[\"Attrition\"].map(mapping)\n",
    "X = df.drop(\"Attrition\", axis =1)\n",
    "y = df[\"Attrition\"]\n",
    "X_train, X_test, y_train, y_test = train_test_split(X, y, test_size=0.30, random_state=42, shuffle = True, stratify = y)\n",
    "# X_train, X_valid, y_train, y_valid = train_test_split(X_train, y_train, test_size=0.20, random_state=42, shuffle = True, stratify = y_train)"
   ]
  },
  {
   "cell_type": "code",
   "execution_count": 6,
   "metadata": {},
   "outputs": [
    {
     "name": "stdout",
     "output_type": "stream",
     "text": [
      "train\n",
      "              precision    recall  f1-score   support\n",
      "\n",
      "           0       0.84      1.00      0.91       863\n",
      "           1       0.00      0.00      0.00       166\n",
      "\n",
      "    accuracy                           0.84      1029\n",
      "   macro avg       0.42      0.50      0.46      1029\n",
      "weighted avg       0.70      0.84      0.77      1029\n",
      "\n",
      "test\n",
      "              precision    recall  f1-score   support\n",
      "\n",
      "           0       0.84      1.00      0.91       370\n",
      "           1       0.00      0.00      0.00        71\n",
      "\n",
      "    accuracy                           0.84       441\n",
      "   macro avg       0.42      0.50      0.46       441\n",
      "weighted avg       0.70      0.84      0.77       441\n",
      "\n"
     ]
    },
    {
     "name": "stderr",
     "output_type": "stream",
     "text": [
      "/Library/Frameworks/Python.framework/Versions/3.8/lib/python3.8/site-packages/sklearn/metrics/_classification.py:1221: UndefinedMetricWarning: Precision and F-score are ill-defined and being set to 0.0 in labels with no predicted samples. Use `zero_division` parameter to control this behavior.\n",
      "  _warn_prf(average, modifier, msg_start, len(result))\n"
     ]
    }
   ],
   "source": [
    "dummy_clf = DummyClassifier(strategy=\"most_frequent\").fit(X_train, y_train)\n",
    "print('train')\n",
    "print(classification_report(y_train, dummy_clf.predict(X_train)))\n",
    "print('test')\n",
    "print(classification_report(y_test, dummy_clf.predict(X_test)))"
   ]
  },
  {
   "cell_type": "code",
   "execution_count": 7,
   "metadata": {},
   "outputs": [
    {
     "name": "stdout",
     "output_type": "stream",
     "text": [
      "train\n",
      "              precision    recall  f1-score   support\n",
      "\n",
      "           0       0.90      0.99      0.94       863\n",
      "           1       0.88      0.40      0.55       166\n",
      "\n",
      "    accuracy                           0.89      1029\n",
      "   macro avg       0.89      0.69      0.74      1029\n",
      "weighted avg       0.89      0.89      0.88      1029\n",
      "\n",
      "test\n",
      "              precision    recall  f1-score   support\n",
      "\n",
      "           0       0.90      0.98      0.94       370\n",
      "           1       0.83      0.42      0.56        71\n",
      "\n",
      "    accuracy                           0.89       441\n",
      "   macro avg       0.87      0.70      0.75       441\n",
      "weighted avg       0.89      0.89      0.88       441\n",
      "\n"
     ]
    }
   ],
   "source": [
    "svc = SVC(kernel=\"linear\", C =1, probability= True).fit(X_train, y_train)\n",
    "print('train')\n",
    "print(classification_report(y_train, svc.predict(X_train)))\n",
    "print('test')\n",
    "print(classification_report(y_test, svc.predict(X_test)))"
   ]
  },
  {
   "cell_type": "code",
   "execution_count": 15,
   "metadata": {},
   "outputs": [],
   "source": [
    "index = np.where(svc.predict(X_test) ==1)"
   ]
  },
  {
   "cell_type": "code",
   "execution_count": 17,
   "metadata": {},
   "outputs": [
    {
     "data": {
      "text/plain": [
       "36"
      ]
     },
     "execution_count": 17,
     "metadata": {},
     "output_type": "execute_result"
    }
   ],
   "source": [
    "len(index[0])"
   ]
  },
  {
   "cell_type": "code",
   "execution_count": 13,
   "metadata": {},
   "outputs": [
    {
     "data": {
      "text/plain": [
       "30"
      ]
     },
     "execution_count": 13,
     "metadata": {},
     "output_type": "execute_result"
    }
   ],
   "source": [
    "sum(y_test.iloc[index])"
   ]
  },
  {
   "cell_type": "code",
   "execution_count": 18,
   "metadata": {},
   "outputs": [
    {
     "data": {
      "text/plain": [
       "441"
      ]
     },
     "execution_count": 18,
     "metadata": {},
     "output_type": "execute_result"
    }
   ],
   "source": [
    "len(y_test)"
   ]
  },
  {
   "cell_type": "code",
   "execution_count": 656,
   "metadata": {},
   "outputs": [
    {
     "data": {
      "text/plain": [
       "[('Age', -1.1702826940198803),\n",
       " ('BusinessTravel', 0.6956480875197286),\n",
       " ('Department', 0.5457153870831988),\n",
       " ('DistanceFromHome', 0.674852644171164),\n",
       " ('Gender', 0.1288764888692624),\n",
       " ('JobInvolvement', -0.858109687750372),\n",
       " ('JobRole', -0.9689650948879223),\n",
       " ('MaritalStatus', -0.09619114111732685),\n",
       " ('MonthlyIncome', 0.01265262733752437),\n",
       " ('NumCompaniesWorked', 1.0273659479738066),\n",
       " ('OverTime', 1.041431318501914),\n",
       " ('PercentSalaryHike', 0.1005654949384096),\n",
       " ('StockOptionLevel', -0.7842926573758184),\n",
       " ('TotalWorkingYears', -1.2313242874890167),\n",
       " ('TrainingTimesLastYear', -0.4892138701975559),\n",
       " ('WorkLifeBalance', -0.5686634812869675),\n",
       " ('YearsAtCompany', -0.40124367618727885),\n",
       " ('YearsInCurrentRole', -1.2022445678776261),\n",
       " ('YearsSinceLastPromotion', 1.707096049398664),\n",
       " ('YearsWithCurrManager', -0.7036201180812487),\n",
       " ('TotalJobSatisfcation', -1.955425340067796)]"
      ]
     },
     "execution_count": 656,
     "metadata": {},
     "output_type": "execute_result"
    }
   ],
   "source": [
    "list(zip(list(X_train.columns), svc.coef_[0]))"
   ]
  },
  {
   "cell_type": "code",
   "execution_count": 698,
   "metadata": {},
   "outputs": [
    {
     "name": "stdout",
     "output_type": "stream",
     "text": [
      "train\n",
      "              precision    recall  f1-score   support\n",
      "\n",
      "           0       0.90      0.99      0.94       863\n",
      "           1       0.85      0.41      0.55       166\n",
      "\n",
      "    accuracy                           0.89      1029\n",
      "   macro avg       0.87      0.70      0.75      1029\n",
      "weighted avg       0.89      0.89      0.88      1029\n",
      "\n",
      "test\n",
      "              precision    recall  f1-score   support\n",
      "\n",
      "           0       0.89      0.97      0.93       370\n",
      "           1       0.73      0.38      0.50        71\n",
      "\n",
      "    accuracy                           0.88       441\n",
      "   macro avg       0.81      0.68      0.72       441\n",
      "weighted avg       0.87      0.88      0.86       441\n",
      "\n"
     ]
    }
   ],
   "source": [
    "lr = LogisticRegression().fit(X_train, y_train)\n",
    "print('train')\n",
    "print(classification_report(y_train, lr.predict(X_train)))\n",
    "print('test')\n",
    "print(classification_report(y_test, lr.predict(X_test)))"
   ]
  },
  {
   "cell_type": "code",
   "execution_count": 693,
   "metadata": {},
   "outputs": [
    {
     "name": "stdout",
     "output_type": "stream",
     "text": [
      "train\n",
      "              precision    recall  f1-score   support\n",
      "\n",
      "           0       0.84      1.00      0.91       863\n",
      "           1       1.00      0.01      0.01       166\n",
      "\n",
      "    accuracy                           0.84      1029\n",
      "   macro avg       0.92      0.50      0.46      1029\n",
      "weighted avg       0.87      0.84      0.77      1029\n",
      "\n",
      "test\n",
      "              precision    recall  f1-score   support\n",
      "\n",
      "           0       0.84      1.00      0.91       370\n",
      "           1       1.00      0.03      0.05        71\n",
      "\n",
      "    accuracy                           0.84       441\n",
      "   macro avg       0.92      0.51      0.48       441\n",
      "weighted avg       0.87      0.84      0.78       441\n",
      "\n"
     ]
    }
   ],
   "source": [
    "lra = LogisticRegression(class_weight = {0:.85, 1:0.15}).fit(X_train, y_train)\n",
    "print('train')\n",
    "print(classification_report(y_train, lra.predict(X_train)))\n",
    "print('test')\n",
    "print(classification_report(y_test, lra.predict(X_test)))"
   ]
  },
  {
   "cell_type": "code",
   "execution_count": 695,
   "metadata": {},
   "outputs": [
    {
     "data": {
      "text/plain": [
       "(array([0, 1]), array([439,   2]))"
      ]
     },
     "execution_count": 695,
     "metadata": {},
     "output_type": "execute_result"
    }
   ],
   "source": [
    "np.unique(lra.predict(X_test), return_counts = True)"
   ]
  },
  {
   "cell_type": "code",
   "execution_count": 696,
   "metadata": {},
   "outputs": [
    {
     "data": {
      "text/plain": [
       "(array([0, 1]), array([370,  71]))"
      ]
     },
     "execution_count": 696,
     "metadata": {},
     "output_type": "execute_result"
    }
   ],
   "source": [
    "np.unique(y_test, return_counts = True)"
   ]
  },
  {
   "cell_type": "code",
   "execution_count": 659,
   "metadata": {},
   "outputs": [
    {
     "name": "stdout",
     "output_type": "stream",
     "text": [
      "train\n",
      "              precision    recall  f1-score   support\n",
      "\n",
      "           0       1.00      0.99      0.99       863\n",
      "           1       0.94      0.99      0.96       166\n",
      "\n",
      "    accuracy                           0.99      1029\n",
      "   macro avg       0.97      0.99      0.98      1029\n",
      "weighted avg       0.99      0.99      0.99      1029\n",
      "\n",
      "test\n",
      "              precision    recall  f1-score   support\n",
      "\n",
      "           0       0.89      0.89      0.89       370\n",
      "           1       0.43      0.44      0.43        71\n",
      "\n",
      "    accuracy                           0.82       441\n",
      "   macro avg       0.66      0.66      0.66       441\n",
      "weighted avg       0.82      0.82      0.82       441\n",
      "\n"
     ]
    }
   ],
   "source": [
    "clf = xgb.XGBClassifier(max_depth =3, n_estimators = 100, scale_pos_weight = 4)\n",
    "clf.fit(X_train,y_train)\n",
    "print('train')\n",
    "print(classification_report(y_train, clf.predict(X_train)))\n",
    "print('test')\n",
    "print(classification_report(y_test, clf.predict(X_test)))"
   ]
  },
  {
   "cell_type": "code",
   "execution_count": 660,
   "metadata": {},
   "outputs": [],
   "source": [
    "from sklearn.ensemble import VotingClassifier"
   ]
  },
  {
   "cell_type": "code",
   "execution_count": 661,
   "metadata": {},
   "outputs": [],
   "source": [
    "vc = VotingClassifier(estimators=[\n",
    "    ('svc', SVC(kernel=\"linear\", C =1, probability= True, class_weight = {0:0.85, 1:0.15})),\n",
    "    ('clf', xgb.XGBClassifier(max_depth =1, n_estimators = 100, scale_pos_weight = 4)),\n",
    "    ('lr', LogisticRegression(class_weight = {0:0.85, 1:0.15}))], voting='soft')"
   ]
  },
  {
   "cell_type": "code",
   "execution_count": 662,
   "metadata": {},
   "outputs": [
    {
     "name": "stdout",
     "output_type": "stream",
     "text": [
      "train\n",
      "              precision    recall  f1-score   support\n",
      "\n",
      "           0       0.87      1.00      0.93       863\n",
      "           1       1.00      0.20      0.33       166\n",
      "\n",
      "    accuracy                           0.87      1029\n",
      "   macro avg       0.93      0.60      0.63      1029\n",
      "weighted avg       0.89      0.87      0.83      1029\n",
      "\n",
      "test\n",
      "              precision    recall  f1-score   support\n",
      "\n",
      "           0       0.86      0.99      0.92       370\n",
      "           1       0.87      0.18      0.30        71\n",
      "\n",
      "    accuracy                           0.86       441\n",
      "   macro avg       0.87      0.59      0.61       441\n",
      "weighted avg       0.86      0.86      0.82       441\n",
      "\n"
     ]
    }
   ],
   "source": [
    "vc.fit(X_train, y_train)\n",
    "print('train')\n",
    "print(classification_report(y_train, vc.predict(X_train)))\n",
    "print('test')\n",
    "print(classification_report(y_test, vc.predict(X_test)))"
   ]
  },
  {
   "cell_type": "code",
   "execution_count": 642,
   "metadata": {},
   "outputs": [],
   "source": [
    "vc = VotingClassifier(estimators=[\n",
    "    ('svc', SVC(kernel=\"linear\", C =1, probability= True, class_weight = 'balanced')),\n",
    "    ('clf', xgb.XGBClassifier(max_depth =1, n_estimators = 100)),\n",
    "    ('lr', LogisticRegression(class_weight = 'balanced'))], voting='soft')"
   ]
  },
  {
   "cell_type": "code",
   "execution_count": 643,
   "metadata": {},
   "outputs": [
    {
     "name": "stdout",
     "output_type": "stream",
     "text": [
      "train\n",
      "              precision    recall  f1-score   support\n",
      "\n",
      "           0       0.92      0.97      0.95       863\n",
      "           1       0.79      0.57      0.66       166\n",
      "\n",
      "    accuracy                           0.91      1029\n",
      "   macro avg       0.86      0.77      0.81      1029\n",
      "weighted avg       0.90      0.91      0.90      1029\n",
      "\n",
      "test\n",
      "              precision    recall  f1-score   support\n",
      "\n",
      "           0       0.90      0.95      0.93       370\n",
      "           1       0.64      0.45      0.53        71\n",
      "\n",
      "    accuracy                           0.87       441\n",
      "   macro avg       0.77      0.70      0.73       441\n",
      "weighted avg       0.86      0.87      0.86       441\n",
      "\n"
     ]
    }
   ],
   "source": [
    "vc.fit(X_train, y_train)\n",
    "print('train')\n",
    "print(classification_report(y_train, vc.predict(X_train)))\n",
    "print('test')\n",
    "print(classification_report(y_test, vc.predict(X_test)))"
   ]
  },
  {
   "cell_type": "code",
   "execution_count": 405,
   "metadata": {},
   "outputs": [
    {
     "name": "stdout",
     "output_type": "stream",
     "text": [
      "Train on 926 samples, validate on 103 samples\n",
      "Epoch 1/30\n",
      "926/926 [==============================] - 1s 1ms/step - loss: 0.7344 - precision_53: 0.1573 - val_loss: 0.5554 - val_precision_53: 0.1532\n",
      "Epoch 2/30\n",
      "926/926 [==============================] - 0s 171us/step - loss: 0.4941 - precision_53: 0.1702 - val_loss: 0.5130 - val_precision_53: 0.1780\n",
      "Epoch 3/30\n",
      "926/926 [==============================] - 0s 148us/step - loss: 0.4864 - precision_53: 0.1824 - val_loss: 0.4814 - val_precision_53: 0.1863\n",
      "Epoch 4/30\n",
      "926/926 [==============================] - 0s 141us/step - loss: 0.4934 - precision_53: 0.1868 - val_loss: 0.4670 - val_precision_53: 0.1874\n",
      "Epoch 5/30\n",
      "926/926 [==============================] - 0s 150us/step - loss: 0.4798 - precision_53: 0.1869 - val_loss: 0.4520 - val_precision_53: 0.1859\n",
      "Epoch 6/30\n",
      "926/926 [==============================] - 0s 140us/step - loss: 0.4458 - precision_53: 0.1874 - val_loss: 0.4430 - val_precision_53: 0.1930\n",
      "Epoch 7/30\n",
      "926/926 [==============================] - 0s 140us/step - loss: 0.4746 - precision_53: 0.1994 - val_loss: 0.4353 - val_precision_53: 0.2036\n",
      "Epoch 8/30\n",
      "926/926 [==============================] - 0s 146us/step - loss: 0.4373 - precision_53: 0.2101 - val_loss: 0.4281 - val_precision_53: 0.2130\n",
      "Epoch 9/30\n",
      "926/926 [==============================] - 0s 149us/step - loss: 0.4453 - precision_53: 0.2150 - val_loss: 0.4186 - val_precision_53: 0.2220\n",
      "Epoch 10/30\n",
      "926/926 [==============================] - 0s 158us/step - loss: 0.4239 - precision_53: 0.2309 - val_loss: 0.4043 - val_precision_53: 0.2384\n",
      "Epoch 11/30\n",
      "926/926 [==============================] - 0s 143us/step - loss: 0.4008 - precision_53: 0.2417 - val_loss: 0.3935 - val_precision_53: 0.2482\n",
      "Epoch 12/30\n",
      "926/926 [==============================] - 0s 142us/step - loss: 0.4408 - precision_53: 0.2542 - val_loss: 0.3900 - val_precision_53: 0.2573\n",
      "Epoch 13/30\n",
      "926/926 [==============================] - 0s 140us/step - loss: 0.4268 - precision_53: 0.2595 - val_loss: 0.3935 - val_precision_53: 0.2662\n",
      "Epoch 14/30\n",
      "926/926 [==============================] - 0s 139us/step - loss: 0.4041 - precision_53: 0.2722 - val_loss: 0.3828 - val_precision_53: 0.2767\n",
      "Epoch 15/30\n",
      "926/926 [==============================] - 0s 139us/step - loss: 0.3937 - precision_53: 0.2827 - val_loss: 0.3779 - val_precision_53: 0.2889\n",
      "Epoch 16/30\n",
      "926/926 [==============================] - 0s 138us/step - loss: 0.4052 - precision_53: 0.2932 - val_loss: 0.3746 - val_precision_53: 0.2971\n",
      "Epoch 17/30\n",
      "926/926 [==============================] - 0s 141us/step - loss: 0.4052 - precision_53: 0.3010 - val_loss: 0.3751 - val_precision_53: 0.3072\n",
      "Epoch 18/30\n",
      "926/926 [==============================] - 0s 138us/step - loss: 0.3707 - precision_53: 0.3136 - val_loss: 0.3639 - val_precision_53: 0.3201\n",
      "Epoch 19/30\n",
      "926/926 [==============================] - 0s 140us/step - loss: 0.3798 - precision_53: 0.3259 - val_loss: 0.3572 - val_precision_53: 0.3313\n",
      "Epoch 20/30\n",
      "926/926 [==============================] - 0s 146us/step - loss: 0.3515 - precision_53: 0.3361 - val_loss: 0.3465 - val_precision_53: 0.3433\n",
      "Epoch 21/30\n",
      "926/926 [==============================] - 0s 146us/step - loss: 0.3585 - precision_53: 0.3511 - val_loss: 0.3486 - val_precision_53: 0.3569\n",
      "Epoch 22/30\n",
      "926/926 [==============================] - 0s 146us/step - loss: 0.3697 - precision_53: 0.3615 - val_loss: 0.3574 - val_precision_53: 0.3656\n",
      "Epoch 23/30\n",
      "926/926 [==============================] - 0s 146us/step - loss: 0.3632 - precision_53: 0.3709 - val_loss: 0.3514 - val_precision_53: 0.3752\n",
      "Epoch 24/30\n",
      "926/926 [==============================] - 0s 145us/step - loss: 0.3462 - precision_53: 0.3813 - val_loss: 0.3492 - val_precision_53: 0.3870\n",
      "Epoch 25/30\n",
      "926/926 [==============================] - 0s 141us/step - loss: 0.3724 - precision_53: 0.3925 - val_loss: 0.3499 - val_precision_53: 0.3953\n",
      "Epoch 26/30\n",
      "926/926 [==============================] - 0s 137us/step - loss: 0.3512 - precision_53: 0.3982 - val_loss: 0.3506 - val_precision_53: 0.4006\n",
      "Epoch 27/30\n",
      "926/926 [==============================] - 0s 139us/step - loss: 0.3749 - precision_53: 0.4022 - val_loss: 0.3442 - val_precision_53: 0.4048\n",
      "Epoch 28/30\n",
      "926/926 [==============================] - 0s 140us/step - loss: 0.3546 - precision_53: 0.4095 - val_loss: 0.3475 - val_precision_53: 0.4138\n",
      "Epoch 29/30\n",
      "926/926 [==============================] - 0s 139us/step - loss: 0.3483 - precision_53: 0.4163 - val_loss: 0.3438 - val_precision_53: 0.4199\n",
      "Epoch 30/30\n",
      "926/926 [==============================] - 0s 141us/step - loss: 0.3406 - precision_53: 0.4241 - val_loss: 0.3429 - val_precision_53: 0.4303\n"
     ]
    },
    {
     "data": {
      "text/plain": [
       "<keras.callbacks.callbacks.History at 0x7f86b14e20a0>"
      ]
     },
     "execution_count": 405,
     "metadata": {},
     "output_type": "execute_result"
    }
   ],
   "source": [
    "class_weight = {0:0.85}\n",
    "dropout = 0.4\n",
    "model = keras.models.Sequential()\n",
    "model.add(keras.layers.Dense(100, kernel_initializer= 'he_normal',input_shape = (X.shape[1],)))\n",
    "model.add(keras.layers.BatchNormalization())\n",
    "model.add(keras.layers.Activation('relu'))\n",
    "model.add(Dropout(dropout))\n",
    "model.add(keras.layers.Dense(100, kernel_initializer= 'he_normal'))\n",
    "model.add(keras.layers.BatchNormalization())\n",
    "model.add(keras.layers.Activation('relu'))\n",
    "model.add(Dropout(dropout))\n",
    "model.add(keras.layers.Dense(100, kernel_initializer= 'he_normal'))\n",
    "model.add(keras.layers.BatchNormalization())\n",
    "model.add(keras.layers.Activation('relu'))\n",
    "model.add(Dropout(dropout))\n",
    "model.add(keras.layers.Dense(100, kernel_initializer= 'he_normal'))\n",
    "model.add(keras.layers.BatchNormalization())\n",
    "model.add(keras.layers.Activation('relu'))\n",
    "model.add(Dropout(dropout))\n",
    "model.add(keras.layers.Dense(100, kernel_initializer= 'he_normal'))\n",
    "model.add(keras.layers.BatchNormalization())\n",
    "model.add(keras.layers.Activation('relu'))\n",
    "model.add(Dropout(dropout))\n",
    "model.add(keras.layers.Dense(1, activation = 'sigmoid'))\n",
    "model.compile(optimizer = \"adam\", loss = 'binary_crossentropy', metrics = [tf.keras.metrics.Precision()])\n",
    "model.fit(X_train, y_train, epochs = 30, batch_size = 20, validation_split=0.1)"
   ]
  },
  {
   "cell_type": "code",
   "execution_count": 406,
   "metadata": {},
   "outputs": [
    {
     "name": "stdout",
     "output_type": "stream",
     "text": [
      "train\n",
      "              precision    recall  f1-score   support\n",
      "\n",
      "           0       0.89      0.99      0.94       863\n",
      "           1       0.85      0.37      0.51       166\n",
      "\n",
      "    accuracy                           0.89      1029\n",
      "   macro avg       0.87      0.68      0.72      1029\n",
      "weighted avg       0.88      0.89      0.87      1029\n",
      "\n",
      "test\n",
      "              precision    recall  f1-score   support\n",
      "\n",
      "           0       0.88      0.97      0.93       370\n",
      "           1       0.70      0.32      0.44        71\n",
      "\n",
      "    accuracy                           0.87       441\n",
      "   macro avg       0.79      0.65      0.68       441\n",
      "weighted avg       0.85      0.87      0.85       441\n",
      "\n"
     ]
    }
   ],
   "source": [
    "# print('train')\n",
    "# print(classification_report(y_train, model.predict(X_train)))\n",
    "# print('test')\n",
    "# print(classification_report(y_test, model.predict(X_test)))\n",
    "\n",
    "print('train')\n",
    "print(classification_report(y_train, [x >=0.5 for x in model.predict(X_train)]))\n",
    "print('test')\n",
    "print(classification_report(y_test, [x >=0.5 for x in model.predict(X_test)]))"
   ]
  },
  {
   "cell_type": "code",
   "execution_count": 413,
   "metadata": {},
   "outputs": [
    {
     "name": "stdout",
     "output_type": "stream",
     "text": [
      "Train on 926 samples, validate on 103 samples\n",
      "Epoch 1/30\n",
      "926/926 [==============================] - 1s 1ms/step - loss: 0.3466 - precision_57: 0.1486 - val_loss: 0.3256 - val_precision_57: 0.1582\n",
      "Epoch 2/30\n",
      "926/926 [==============================] - 0s 173us/step - loss: 0.3142 - precision_57: 0.1750 - val_loss: 0.3024 - val_precision_57: 0.1724\n",
      "Epoch 3/30\n",
      "926/926 [==============================] - 0s 146us/step - loss: 0.3018 - precision_57: 0.1800 - val_loss: 0.2938 - val_precision_57: 0.1827\n",
      "Epoch 4/30\n",
      "926/926 [==============================] - 0s 134us/step - loss: 0.2987 - precision_57: 0.1876 - val_loss: 0.2898 - val_precision_57: 0.1883\n",
      "Epoch 5/30\n",
      "926/926 [==============================] - 0s 136us/step - loss: 0.2744 - precision_57: 0.1958 - val_loss: 0.2821 - val_precision_57: 0.1982\n",
      "Epoch 6/30\n",
      "926/926 [==============================] - 0s 136us/step - loss: 0.2877 - precision_57: 0.1974 - val_loss: 0.2777 - val_precision_57: 0.1981\n",
      "Epoch 7/30\n",
      "926/926 [==============================] - 0s 136us/step - loss: 0.2754 - precision_57: 0.2019 - val_loss: 0.2736 - val_precision_57: 0.2031\n",
      "Epoch 8/30\n",
      "926/926 [==============================] - 0s 142us/step - loss: 0.2736 - precision_57: 0.2081 - val_loss: 0.2640 - val_precision_57: 0.2142\n",
      "Epoch 9/30\n",
      "926/926 [==============================] - 0s 139us/step - loss: 0.2693 - precision_57: 0.2221 - val_loss: 0.2578 - val_precision_57: 0.2260\n",
      "Epoch 10/30\n",
      "926/926 [==============================] - 0s 138us/step - loss: 0.2570 - precision_57: 0.2325 - val_loss: 0.2554 - val_precision_57: 0.2420\n",
      "Epoch 11/30\n",
      "926/926 [==============================] - 0s 151us/step - loss: 0.2490 - precision_57: 0.2473 - val_loss: 0.2464 - val_precision_57: 0.2560\n",
      "Epoch 12/30\n",
      "926/926 [==============================] - 0s 147us/step - loss: 0.2434 - precision_57: 0.2639 - val_loss: 0.2423 - val_precision_57: 0.2718\n",
      "Epoch 13/30\n",
      "926/926 [==============================] - 0s 158us/step - loss: 0.2366 - precision_57: 0.2842 - val_loss: 0.2330 - val_precision_57: 0.2998\n",
      "Epoch 14/30\n",
      "926/926 [==============================] - 0s 151us/step - loss: 0.2455 - precision_57: 0.3085 - val_loss: 0.2257 - val_precision_57: 0.3163\n",
      "Epoch 15/30\n",
      "926/926 [==============================] - 0s 146us/step - loss: 0.2365 - precision_57: 0.3238 - val_loss: 0.2223 - val_precision_57: 0.3334\n",
      "Epoch 16/30\n",
      "926/926 [==============================] - 0s 151us/step - loss: 0.2296 - precision_57: 0.3390 - val_loss: 0.2214 - val_precision_57: 0.3457\n",
      "Epoch 17/30\n",
      "926/926 [==============================] - 0s 151us/step - loss: 0.2433 - precision_57: 0.3520 - val_loss: 0.2232 - val_precision_57: 0.3582\n",
      "Epoch 18/30\n",
      "926/926 [==============================] - 0s 151us/step - loss: 0.2327 - precision_57: 0.3637 - val_loss: 0.2185 - val_precision_57: 0.3698\n",
      "Epoch 19/30\n",
      "926/926 [==============================] - 0s 146us/step - loss: 0.2291 - precision_57: 0.3744 - val_loss: 0.2209 - val_precision_57: 0.3807\n",
      "Epoch 20/30\n",
      "926/926 [==============================] - 0s 137us/step - loss: 0.2360 - precision_57: 0.3841 - val_loss: 0.2213 - val_precision_57: 0.3885\n",
      "Epoch 21/30\n",
      "926/926 [==============================] - 0s 135us/step - loss: 0.2365 - precision_57: 0.3895 - val_loss: 0.2168 - val_precision_57: 0.3935\n",
      "Epoch 22/30\n",
      "926/926 [==============================] - 0s 139us/step - loss: 0.2211 - precision_57: 0.3976 - val_loss: 0.2091 - val_precision_57: 0.4035\n",
      "Epoch 23/30\n",
      "926/926 [==============================] - 0s 142us/step - loss: 0.2293 - precision_57: 0.4076 - val_loss: 0.2090 - val_precision_57: 0.4110\n",
      "Epoch 24/30\n",
      "926/926 [==============================] - 0s 143us/step - loss: 0.2203 - precision_57: 0.4163 - val_loss: 0.2063 - val_precision_57: 0.4215\n",
      "Epoch 25/30\n",
      "926/926 [==============================] - 0s 154us/step - loss: 0.2163 - precision_57: 0.4250 - val_loss: 0.1982 - val_precision_57: 0.4294\n",
      "Epoch 26/30\n",
      "926/926 [==============================] - 0s 149us/step - loss: 0.2122 - precision_57: 0.4332 - val_loss: 0.1993 - val_precision_57: 0.4368\n",
      "Epoch 27/30\n",
      "926/926 [==============================] - 0s 153us/step - loss: 0.2171 - precision_57: 0.4406 - val_loss: 0.1964 - val_precision_57: 0.4438\n",
      "Epoch 28/30\n",
      "926/926 [==============================] - 0s 134us/step - loss: 0.2130 - precision_57: 0.4464 - val_loss: 0.1963 - val_precision_57: 0.4501\n",
      "Epoch 29/30\n",
      "926/926 [==============================] - 0s 141us/step - loss: 0.2078 - precision_57: 0.4521 - val_loss: 0.1986 - val_precision_57: 0.4558\n",
      "Epoch 30/30\n",
      "926/926 [==============================] - 0s 139us/step - loss: 0.2157 - precision_57: 0.4588 - val_loss: 0.1931 - val_precision_57: 0.4622\n"
     ]
    },
    {
     "data": {
      "text/plain": [
       "<keras.callbacks.callbacks.History at 0x7f8691403d60>"
      ]
     },
     "execution_count": 413,
     "metadata": {},
     "output_type": "execute_result"
    }
   ],
   "source": [
    "class_weight = {0:0.5, 1:0.7}\n",
    "dropout = 0.4\n",
    "modelb = keras.models.Sequential()\n",
    "modelb.add(keras.layers.Dense(100, kernel_initializer= 'he_normal',input_shape = (X.shape[1],)))\n",
    "modelb.add(keras.layers.BatchNormalization())\n",
    "modelb.add(keras.layers.Activation('relu'))\n",
    "modelb.add(Dropout(dropout))\n",
    "modelb.add(keras.layers.Dense(100, kernel_initializer= 'he_normal'))\n",
    "modelb.add(keras.layers.BatchNormalization())\n",
    "modelb.add(keras.layers.Activation('relu'))\n",
    "modelb.add(Dropout(dropout))\n",
    "modelb.add(keras.layers.Dense(100, kernel_initializer= 'he_normal'))\n",
    "modelb.add(keras.layers.BatchNormalization())\n",
    "modelb.add(keras.layers.Activation('relu'))\n",
    "modelb.add(Dropout(dropout))\n",
    "modelb.add(keras.layers.Dense(100, kernel_initializer= 'he_normal'))\n",
    "modelb.add(keras.layers.BatchNormalization())\n",
    "modelb.add(keras.layers.Activation('relu'))\n",
    "modelb.add(Dropout(dropout))\n",
    "modelb.add(keras.layers.Dense(100, kernel_initializer= 'he_normal'))\n",
    "modelb.add(keras.layers.BatchNormalization())\n",
    "modelb.add(keras.layers.Activation('relu'))\n",
    "modelb.add(Dropout(dropout))\n",
    "modelb.add(keras.layers.Dense(1, activation = 'sigmoid'))\n",
    "modelb.compile(optimizer = \"adam\", loss = 'binary_crossentropy', metrics = [tf.keras.metrics.Precision()])\n",
    "modelb.fit(X_train, y_train, epochs = 30, batch_size = 20, validation_split=0.1, class_weight = class_weight)"
   ]
  },
  {
   "cell_type": "code",
   "execution_count": 414,
   "metadata": {},
   "outputs": [
    {
     "name": "stdout",
     "output_type": "stream",
     "text": [
      "train\n",
      "              precision    recall  f1-score   support\n",
      "\n",
      "           0       0.90      0.98      0.94       863\n",
      "           1       0.78      0.44      0.56       166\n",
      "\n",
      "    accuracy                           0.89      1029\n",
      "   macro avg       0.84      0.71      0.75      1029\n",
      "weighted avg       0.88      0.89      0.88      1029\n",
      "\n",
      "test\n",
      "              precision    recall  f1-score   support\n",
      "\n",
      "           0       0.89      0.95      0.92       370\n",
      "           1       0.63      0.41      0.50        71\n",
      "\n",
      "    accuracy                           0.87       441\n",
      "   macro avg       0.76      0.68      0.71       441\n",
      "weighted avg       0.85      0.87      0.85       441\n",
      "\n"
     ]
    }
   ],
   "source": [
    "print('train')\n",
    "print(classification_report(y_train, [x >=0.5 for x in modelb.predict(X_train)]))\n",
    "print('test')\n",
    "print(classification_report(y_test, [x >=0.5 for x in modelb.predict(X_test)]))"
   ]
  },
  {
   "cell_type": "code",
   "execution_count": 415,
   "metadata": {},
   "outputs": [
    {
     "name": "stdout",
     "output_type": "stream",
     "text": [
      "Train on 926 samples, validate on 103 samples\n",
      "Epoch 1/100\n",
      "926/926 [==============================] - 1s 1ms/step - loss: 0.6110 - precision_58: 0.1487 - val_loss: 0.5465 - val_precision_58: 0.1542\n",
      "Epoch 2/100\n",
      "926/926 [==============================] - 0s 176us/step - loss: 0.4683 - precision_58: 0.1700 - val_loss: 0.4945 - val_precision_58: 0.1847\n",
      "Epoch 3/100\n",
      "926/926 [==============================] - 0s 142us/step - loss: 0.4484 - precision_58: 0.1996 - val_loss: 0.4639 - val_precision_58: 0.2028\n",
      "Epoch 4/100\n",
      "926/926 [==============================] - 0s 134us/step - loss: 0.4396 - precision_58: 0.2144 - val_loss: 0.4408 - val_precision_58: 0.2268\n",
      "Epoch 5/100\n",
      "926/926 [==============================] - 0s 136us/step - loss: 0.4503 - precision_58: 0.2290 - val_loss: 0.4240 - val_precision_58: 0.2318\n",
      "Epoch 6/100\n",
      "926/926 [==============================] - 0s 132us/step - loss: 0.4277 - precision_58: 0.2424 - val_loss: 0.4060 - val_precision_58: 0.2481\n",
      "Epoch 7/100\n",
      "926/926 [==============================] - 0s 135us/step - loss: 0.4108 - precision_58: 0.2598 - val_loss: 0.3943 - val_precision_58: 0.2748\n",
      "Epoch 8/100\n",
      "926/926 [==============================] - 0s 145us/step - loss: 0.4050 - precision_58: 0.2857 - val_loss: 0.3764 - val_precision_58: 0.3020\n",
      "Epoch 9/100\n",
      "926/926 [==============================] - 0s 154us/step - loss: 0.4017 - precision_58: 0.3137 - val_loss: 0.3716 - val_precision_58: 0.3315\n",
      "Epoch 10/100\n",
      "926/926 [==============================] - 0s 151us/step - loss: 0.4001 - precision_58: 0.3430 - val_loss: 0.3648 - val_precision_58: 0.3536\n",
      "Epoch 11/100\n",
      "926/926 [==============================] - 0s 133us/step - loss: 0.3789 - precision_58: 0.3657 - val_loss: 0.3531 - val_precision_58: 0.3801\n",
      "Epoch 12/100\n",
      "926/926 [==============================] - 0s 136us/step - loss: 0.3643 - precision_58: 0.3886 - val_loss: 0.3514 - val_precision_58: 0.3993\n",
      "Epoch 13/100\n",
      "926/926 [==============================] - 0s 135us/step - loss: 0.3577 - precision_58: 0.4056 - val_loss: 0.3573 - val_precision_58: 0.4208\n",
      "Epoch 14/100\n",
      "926/926 [==============================] - 0s 138us/step - loss: 0.3871 - precision_58: 0.4249 - val_loss: 0.3638 - val_precision_58: 0.4293\n",
      "Epoch 15/100\n",
      "926/926 [==============================] - 0s 148us/step - loss: 0.3811 - precision_58: 0.4349 - val_loss: 0.3541 - val_precision_58: 0.4400\n",
      "Epoch 16/100\n",
      "926/926 [==============================] - 0s 147us/step - loss: 0.3694 - precision_58: 0.4480 - val_loss: 0.3525 - val_precision_58: 0.4571\n",
      "Epoch 17/100\n",
      "926/926 [==============================] - 0s 144us/step - loss: 0.3506 - precision_58: 0.4641 - val_loss: 0.3514 - val_precision_58: 0.4703\n",
      "Epoch 18/100\n",
      "926/926 [==============================] - 0s 132us/step - loss: 0.3698 - precision_58: 0.4751 - val_loss: 0.3497 - val_precision_58: 0.4771\n",
      "Epoch 19/100\n",
      "926/926 [==============================] - 0s 134us/step - loss: 0.3813 - precision_58: 0.4776 - val_loss: 0.3438 - val_precision_58: 0.4805\n",
      "Epoch 20/100\n",
      "926/926 [==============================] - 0s 130us/step - loss: 0.3568 - precision_58: 0.4843 - val_loss: 0.3462 - val_precision_58: 0.4902\n",
      "Epoch 21/100\n",
      "926/926 [==============================] - 0s 136us/step - loss: 0.3331 - precision_58: 0.4951 - val_loss: 0.3400 - val_precision_58: 0.5011\n",
      "Epoch 22/100\n",
      "926/926 [==============================] - 0s 143us/step - loss: 0.3380 - precision_58: 0.5037 - val_loss: 0.3288 - val_precision_58: 0.5084\n",
      "Epoch 23/100\n",
      "926/926 [==============================] - 0s 139us/step - loss: 0.3467 - precision_58: 0.5118 - val_loss: 0.3344 - val_precision_58: 0.5144\n",
      "Epoch 24/100\n",
      "926/926 [==============================] - 0s 135us/step - loss: 0.3340 - precision_58: 0.5176 - val_loss: 0.3306 - val_precision_58: 0.5198\n",
      "Epoch 25/100\n",
      "926/926 [==============================] - 0s 141us/step - loss: 0.3436 - precision_58: 0.5239 - val_loss: 0.3402 - val_precision_58: 0.5249\n",
      "Epoch 26/100\n",
      "926/926 [==============================] - 0s 152us/step - loss: 0.3291 - precision_58: 0.5285 - val_loss: 0.3386 - val_precision_58: 0.5310\n",
      "Epoch 27/100\n",
      "926/926 [==============================] - 0s 148us/step - loss: 0.3326 - precision_58: 0.5333 - val_loss: 0.3354 - val_precision_58: 0.5361\n",
      "Epoch 28/100\n",
      "926/926 [==============================] - 0s 147us/step - loss: 0.3387 - precision_58: 0.5385 - val_loss: 0.3355 - val_precision_58: 0.5418\n",
      "Epoch 29/100\n",
      "926/926 [==============================] - 0s 138us/step - loss: 0.3172 - precision_58: 0.5430 - val_loss: 0.3266 - val_precision_58: 0.5464\n",
      "Epoch 30/100\n",
      "926/926 [==============================] - 0s 149us/step - loss: 0.3238 - precision_58: 0.5478 - val_loss: 0.3303 - val_precision_58: 0.5509\n",
      "Epoch 31/100\n",
      "926/926 [==============================] - 0s 153us/step - loss: 0.3298 - precision_58: 0.5526 - val_loss: 0.3303 - val_precision_58: 0.5549\n",
      "Epoch 32/100\n",
      "926/926 [==============================] - 0s 148us/step - loss: 0.3216 - precision_58: 0.5577 - val_loss: 0.3349 - val_precision_58: 0.5592\n",
      "Epoch 33/100\n",
      "926/926 [==============================] - 0s 152us/step - loss: 0.3212 - precision_58: 0.5609 - val_loss: 0.3380 - val_precision_58: 0.5625\n",
      "Epoch 34/100\n",
      "926/926 [==============================] - 0s 142us/step - loss: 0.3107 - precision_58: 0.5651 - val_loss: 0.3370 - val_precision_58: 0.5668\n",
      "Epoch 35/100\n",
      "926/926 [==============================] - 0s 133us/step - loss: 0.3215 - precision_58: 0.5672 - val_loss: 0.3369 - val_precision_58: 0.5690\n",
      "Epoch 36/100\n",
      "926/926 [==============================] - 0s 135us/step - loss: 0.3195 - precision_58: 0.5705 - val_loss: 0.3403 - val_precision_58: 0.5709\n",
      "Epoch 37/100\n",
      "926/926 [==============================] - 0s 135us/step - loss: 0.3162 - precision_58: 0.5732 - val_loss: 0.3429 - val_precision_58: 0.5750\n",
      "Epoch 38/100\n",
      "926/926 [==============================] - 0s 155us/step - loss: 0.3123 - precision_58: 0.5763 - val_loss: 0.3390 - val_precision_58: 0.5776\n",
      "Epoch 39/100\n",
      "926/926 [==============================] - 0s 148us/step - loss: 0.3078 - precision_58: 0.5794 - val_loss: 0.3338 - val_precision_58: 0.5800\n",
      "Epoch 40/100\n",
      "926/926 [==============================] - 0s 146us/step - loss: 0.3023 - precision_58: 0.5815 - val_loss: 0.3358 - val_precision_58: 0.5829\n",
      "Epoch 41/100\n",
      "926/926 [==============================] - 0s 134us/step - loss: 0.3000 - precision_58: 0.5842 - val_loss: 0.3363 - val_precision_58: 0.5855\n",
      "Epoch 42/100\n",
      "926/926 [==============================] - 0s 147us/step - loss: 0.3095 - precision_58: 0.5868 - val_loss: 0.3389 - val_precision_58: 0.5882\n",
      "Epoch 43/100\n",
      "926/926 [==============================] - 0s 130us/step - loss: 0.2832 - precision_58: 0.5898 - val_loss: 0.3334 - val_precision_58: 0.5918\n",
      "Epoch 44/100\n",
      "926/926 [==============================] - 0s 140us/step - loss: 0.3071 - precision_58: 0.5923 - val_loss: 0.3396 - val_precision_58: 0.5930\n",
      "Epoch 45/100\n",
      "926/926 [==============================] - 0s 146us/step - loss: 0.3089 - precision_58: 0.5932 - val_loss: 0.3510 - val_precision_58: 0.5945\n",
      "Epoch 46/100\n",
      "926/926 [==============================] - 0s 139us/step - loss: 0.3211 - precision_58: 0.5948 - val_loss: 0.3491 - val_precision_58: 0.5948\n",
      "Epoch 47/100\n",
      "926/926 [==============================] - 0s 148us/step - loss: 0.2981 - precision_58: 0.5960 - val_loss: 0.3429 - val_precision_58: 0.5960\n",
      "Epoch 48/100\n",
      "926/926 [==============================] - 0s 143us/step - loss: 0.2861 - precision_58: 0.5969 - val_loss: 0.3435 - val_precision_58: 0.5985\n",
      "Epoch 49/100\n",
      "926/926 [==============================] - 0s 132us/step - loss: 0.3142 - precision_58: 0.5999 - val_loss: 0.3419 - val_precision_58: 0.6011\n",
      "Epoch 50/100\n",
      "926/926 [==============================] - 0s 136us/step - loss: 0.2973 - precision_58: 0.6013 - val_loss: 0.3424 - val_precision_58: 0.6026\n",
      "Epoch 51/100\n",
      "926/926 [==============================] - 0s 139us/step - loss: 0.2926 - precision_58: 0.6045 - val_loss: 0.3482 - val_precision_58: 0.6055\n",
      "Epoch 52/100\n",
      "926/926 [==============================] - 0s 136us/step - loss: 0.2735 - precision_58: 0.6069 - val_loss: 0.3599 - val_precision_58: 0.6080\n",
      "Epoch 53/100\n",
      "926/926 [==============================] - 0s 145us/step - loss: 0.3038 - precision_58: 0.6083 - val_loss: 0.3548 - val_precision_58: 0.6091\n"
     ]
    },
    {
     "name": "stdout",
     "output_type": "stream",
     "text": [
      "Epoch 54/100\n",
      "926/926 [==============================] - 0s 141us/step - loss: 0.3063 - precision_58: 0.6090 - val_loss: 0.3458 - val_precision_58: 0.6097\n",
      "Epoch 55/100\n",
      "926/926 [==============================] - 0s 146us/step - loss: 0.2794 - precision_58: 0.6106 - val_loss: 0.3456 - val_precision_58: 0.6122\n",
      "Epoch 56/100\n",
      "926/926 [==============================] - 0s 135us/step - loss: 0.2878 - precision_58: 0.6135 - val_loss: 0.3347 - val_precision_58: 0.6140\n",
      "Epoch 57/100\n",
      "926/926 [==============================] - 0s 130us/step - loss: 0.2881 - precision_58: 0.6141 - val_loss: 0.3386 - val_precision_58: 0.6145\n",
      "Epoch 58/100\n",
      "926/926 [==============================] - 0s 127us/step - loss: 0.2855 - precision_58: 0.6151 - val_loss: 0.3361 - val_precision_58: 0.6162\n",
      "Epoch 59/100\n",
      "926/926 [==============================] - 0s 127us/step - loss: 0.2967 - precision_58: 0.6161 - val_loss: 0.3504 - val_precision_58: 0.6161\n",
      "Epoch 60/100\n",
      "926/926 [==============================] - 0s 136us/step - loss: 0.2922 - precision_58: 0.6169 - val_loss: 0.3445 - val_precision_58: 0.6179\n",
      "Epoch 61/100\n",
      "926/926 [==============================] - 0s 131us/step - loss: 0.2794 - precision_58: 0.6187 - val_loss: 0.3430 - val_precision_58: 0.6203\n",
      "Epoch 62/100\n",
      "926/926 [==============================] - 0s 130us/step - loss: 0.2774 - precision_58: 0.6216 - val_loss: 0.3405 - val_precision_58: 0.6226\n",
      "Epoch 63/100\n",
      "926/926 [==============================] - 0s 128us/step - loss: 0.2824 - precision_58: 0.6237 - val_loss: 0.3521 - val_precision_58: 0.6245\n",
      "Epoch 64/100\n",
      "926/926 [==============================] - 0s 127us/step - loss: 0.3022 - precision_58: 0.6249 - val_loss: 0.3641 - val_precision_58: 0.6254\n",
      "Epoch 65/100\n",
      "926/926 [==============================] - 0s 137us/step - loss: 0.2834 - precision_58: 0.6263 - val_loss: 0.3498 - val_precision_58: 0.6265\n",
      "Epoch 66/100\n",
      "926/926 [==============================] - 0s 129us/step - loss: 0.2947 - precision_58: 0.6272 - val_loss: 0.3356 - val_precision_58: 0.6275\n",
      "Epoch 67/100\n",
      "926/926 [==============================] - 0s 126us/step - loss: 0.2833 - precision_58: 0.6279 - val_loss: 0.3403 - val_precision_58: 0.6280\n",
      "Epoch 68/100\n",
      "926/926 [==============================] - 0s 130us/step - loss: 0.2910 - precision_58: 0.6287 - val_loss: 0.3450 - val_precision_58: 0.6288\n",
      "Epoch 69/100\n",
      "926/926 [==============================] - 0s 129us/step - loss: 0.2794 - precision_58: 0.6300 - val_loss: 0.3477 - val_precision_58: 0.6310\n",
      "Epoch 70/100\n",
      "926/926 [==============================] - 0s 127us/step - loss: 0.2987 - precision_58: 0.6319 - val_loss: 0.3558 - val_precision_58: 0.6322\n",
      "Epoch 71/100\n",
      "926/926 [==============================] - 0s 128us/step - loss: 0.2908 - precision_58: 0.6324 - val_loss: 0.3614 - val_precision_58: 0.6329\n",
      "Epoch 72/100\n",
      "926/926 [==============================] - 0s 128us/step - loss: 0.2860 - precision_58: 0.6339 - val_loss: 0.3568 - val_precision_58: 0.6348\n",
      "Epoch 73/100\n",
      "926/926 [==============================] - 0s 130us/step - loss: 0.2827 - precision_58: 0.6346 - val_loss: 0.3598 - val_precision_58: 0.6350\n",
      "Epoch 74/100\n",
      "926/926 [==============================] - 0s 129us/step - loss: 0.2751 - precision_58: 0.6355 - val_loss: 0.3476 - val_precision_58: 0.6366\n",
      "Epoch 75/100\n",
      "926/926 [==============================] - 0s 129us/step - loss: 0.2962 - precision_58: 0.6365 - val_loss: 0.3555 - val_precision_58: 0.6365\n",
      "Epoch 76/100\n",
      "926/926 [==============================] - 0s 142us/step - loss: 0.2773 - precision_58: 0.6374 - val_loss: 0.3729 - val_precision_58: 0.6376\n",
      "Epoch 77/100\n",
      "926/926 [==============================] - 0s 135us/step - loss: 0.2734 - precision_58: 0.6380 - val_loss: 0.3730 - val_precision_58: 0.6380\n",
      "Epoch 78/100\n",
      "926/926 [==============================] - 0s 127us/step - loss: 0.2738 - precision_58: 0.6388 - val_loss: 0.3562 - val_precision_58: 0.6389\n",
      "Epoch 79/100\n",
      "926/926 [==============================] - 0s 128us/step - loss: 0.2810 - precision_58: 0.6393 - val_loss: 0.3610 - val_precision_58: 0.6399\n",
      "Epoch 80/100\n",
      "926/926 [==============================] - 0s 140us/step - loss: 0.2755 - precision_58: 0.6397 - val_loss: 0.3676 - val_precision_58: 0.6405\n",
      "Epoch 81/100\n",
      "926/926 [==============================] - 0s 148us/step - loss: 0.2695 - precision_58: 0.6410 - val_loss: 0.3724 - val_precision_58: 0.6412\n",
      "Epoch 82/100\n",
      "926/926 [==============================] - 0s 141us/step - loss: 0.2534 - precision_58: 0.6419 - val_loss: 0.3823 - val_precision_58: 0.6426\n",
      "Epoch 83/100\n",
      "926/926 [==============================] - 0s 135us/step - loss: 0.2513 - precision_58: 0.6427 - val_loss: 0.3903 - val_precision_58: 0.6435\n",
      "Epoch 84/100\n",
      "926/926 [==============================] - 0s 133us/step - loss: 0.2540 - precision_58: 0.6443 - val_loss: 0.3929 - val_precision_58: 0.6449\n",
      "Epoch 85/100\n",
      "926/926 [==============================] - 0s 135us/step - loss: 0.2583 - precision_58: 0.6453 - val_loss: 0.3581 - val_precision_58: 0.6459\n",
      "Epoch 86/100\n",
      "926/926 [==============================] - 0s 134us/step - loss: 0.2775 - precision_58: 0.6463 - val_loss: 0.3526 - val_precision_58: 0.6468\n",
      "Epoch 87/100\n",
      "926/926 [==============================] - 0s 129us/step - loss: 0.2610 - precision_58: 0.6472 - val_loss: 0.3578 - val_precision_58: 0.6479\n",
      "Epoch 88/100\n",
      "926/926 [==============================] - 0s 133us/step - loss: 0.2627 - precision_58: 0.6485 - val_loss: 0.3611 - val_precision_58: 0.6488\n",
      "Epoch 89/100\n",
      "926/926 [==============================] - 0s 134us/step - loss: 0.2667 - precision_58: 0.6493 - val_loss: 0.3719 - val_precision_58: 0.6498\n",
      "Epoch 90/100\n",
      "926/926 [==============================] - 0s 136us/step - loss: 0.2762 - precision_58: 0.6497 - val_loss: 0.3661 - val_precision_58: 0.6501\n",
      "Epoch 91/100\n",
      "926/926 [==============================] - 0s 135us/step - loss: 0.2653 - precision_58: 0.6505 - val_loss: 0.3557 - val_precision_58: 0.6507\n",
      "Epoch 92/100\n",
      "926/926 [==============================] - 0s 134us/step - loss: 0.2797 - precision_58: 0.6509 - val_loss: 0.3587 - val_precision_58: 0.6514\n",
      "Epoch 93/100\n",
      "926/926 [==============================] - 0s 136us/step - loss: 0.2525 - precision_58: 0.6521 - val_loss: 0.3806 - val_precision_58: 0.6529\n",
      "Epoch 94/100\n",
      "926/926 [==============================] - 0s 149us/step - loss: 0.2569 - precision_58: 0.6530 - val_loss: 0.3814 - val_precision_58: 0.6537\n",
      "Epoch 95/100\n",
      "926/926 [==============================] - 0s 151us/step - loss: 0.2587 - precision_58: 0.6540 - val_loss: 0.3913 - val_precision_58: 0.6540\n",
      "Epoch 96/100\n",
      "926/926 [==============================] - 0s 147us/step - loss: 0.2691 - precision_58: 0.6545 - val_loss: 0.3959 - val_precision_58: 0.6550\n",
      "Epoch 97/100\n",
      "926/926 [==============================] - 0s 145us/step - loss: 0.2683 - precision_58: 0.6556 - val_loss: 0.3817 - val_precision_58: 0.6559\n",
      "Epoch 98/100\n",
      "926/926 [==============================] - 0s 140us/step - loss: 0.2592 - precision_58: 0.6563 - val_loss: 0.3851 - val_precision_58: 0.6565\n",
      "Epoch 99/100\n",
      "926/926 [==============================] - 0s 138us/step - loss: 0.2570 - precision_58: 0.6569 - val_loss: 0.3889 - val_precision_58: 0.6573\n",
      "Epoch 100/100\n",
      "926/926 [==============================] - 0s 154us/step - loss: 0.2176 - precision_58: 0.6582 - val_loss: 0.4021 - val_precision_58: 0.6585\n"
     ]
    },
    {
     "data": {
      "text/plain": [
       "<keras.callbacks.callbacks.History at 0x7f8736451c70>"
      ]
     },
     "execution_count": 415,
     "metadata": {},
     "output_type": "execute_result"
    }
   ],
   "source": [
    "dropout = 0.3\n",
    "modelc = keras.models.Sequential()\n",
    "modelc.add(keras.layers.Dense(100, kernel_initializer= 'he_normal',input_shape = (X.shape[1],)))\n",
    "modelc.add(keras.layers.BatchNormalization())\n",
    "modelc.add(keras.layers.Activation('relu'))\n",
    "modelc.add(Dropout(dropout))\n",
    "modelc.add(keras.layers.Dense(100, kernel_initializer= 'he_normal'))\n",
    "modelc.add(keras.layers.BatchNormalization())\n",
    "modelc.add(keras.layers.Activation('relu'))\n",
    "modelc.add(Dropout(dropout))\n",
    "modelc.add(keras.layers.Dense(100, kernel_initializer= 'he_normal'))\n",
    "modelc.add(keras.layers.BatchNormalization())\n",
    "modelc.add(keras.layers.Activation('relu'))\n",
    "modelc.add(Dropout(dropout))\n",
    "modelc.add(keras.layers.Dense(100, kernel_initializer= 'he_normal'))\n",
    "modelc.add(keras.layers.BatchNormalization())\n",
    "modelc.add(keras.layers.Activation('relu'))\n",
    "modelc.add(Dropout(dropout))\n",
    "modelc.add(keras.layers.Dense(100, kernel_initializer= 'he_normal'))\n",
    "modelc.add(keras.layers.BatchNormalization())\n",
    "modelc.add(keras.layers.Activation('relu'))\n",
    "modelc.add(Dropout(dropout))\n",
    "modelc.add(keras.layers.Dense(1, activation = 'sigmoid'))\n",
    "modelc.compile(optimizer = \"adam\", loss = 'binary_crossentropy', metrics = [tf.keras.metrics.Precision()])\n",
    "modelc.fit(X_train, y_train, epochs = 100, batch_size = 20, validation_split=0.1, class_weight = 'balanced')"
   ]
  },
  {
   "cell_type": "code",
   "execution_count": 417,
   "metadata": {},
   "outputs": [
    {
     "name": "stdout",
     "output_type": "stream",
     "text": [
      "train\n",
      "              precision    recall  f1-score   support\n",
      "\n",
      "           0       0.92      0.99      0.96       863\n",
      "           1       0.92      0.57      0.70       166\n",
      "\n",
      "    accuracy                           0.92      1029\n",
      "   macro avg       0.92      0.78      0.83      1029\n",
      "weighted avg       0.92      0.92      0.91      1029\n",
      "\n",
      "test\n",
      "              precision    recall  f1-score   support\n",
      "\n",
      "           0       0.89      0.97      0.93       370\n",
      "           1       0.69      0.38      0.49        71\n",
      "\n",
      "    accuracy                           0.87       441\n",
      "   macro avg       0.79      0.67      0.71       441\n",
      "weighted avg       0.86      0.87      0.86       441\n",
      "\n"
     ]
    }
   ],
   "source": [
    "print('train')\n",
    "print(classification_report(y_train, [x >=0.5 for x in modelc.predict(X_train)]))\n",
    "print('test')\n",
    "print(classification_report(y_test, [x >=0.5 for x in modelc.predict(X_test)]))"
   ]
  },
  {
   "cell_type": "code",
   "execution_count": 608,
   "metadata": {},
   "outputs": [
    {
     "name": "stdout",
     "output_type": "stream",
     "text": [
      "Train on 926 samples, validate on 103 samples\n",
      "Epoch 1/30\n",
      "926/926 [==============================] - 0s 428us/step - loss: 0.9381 - precision_102: 0.1355 - val_loss: 0.6537 - val_precision_102: 0.1601\n",
      "Epoch 2/30\n",
      "926/926 [==============================] - 0s 79us/step - loss: 0.5285 - precision_102: 0.1626 - val_loss: 0.5223 - val_precision_102: 0.1675\n",
      "Epoch 3/30\n",
      "926/926 [==============================] - 0s 68us/step - loss: 0.4440 - precision_102: 0.1718 - val_loss: 0.4795 - val_precision_102: 0.1780\n",
      "Epoch 4/30\n",
      "926/926 [==============================] - 0s 66us/step - loss: 0.4103 - precision_102: 0.1886 - val_loss: 0.4620 - val_precision_102: 0.1997\n",
      "Epoch 5/30\n",
      "926/926 [==============================] - 0s 60us/step - loss: 0.3971 - precision_102: 0.2108 - val_loss: 0.4315 - val_precision_102: 0.2208\n",
      "Epoch 6/30\n",
      "926/926 [==============================] - 0s 65us/step - loss: 0.3806 - precision_102: 0.2305 - val_loss: 0.4217 - val_precision_102: 0.2439\n",
      "Epoch 7/30\n",
      "926/926 [==============================] - 0s 59us/step - loss: 0.3629 - precision_102: 0.2550 - val_loss: 0.4125 - val_precision_102: 0.2672\n",
      "Epoch 8/30\n",
      "926/926 [==============================] - 0s 59us/step - loss: 0.3522 - precision_102: 0.2816 - val_loss: 0.3948 - val_precision_102: 0.2968\n",
      "Epoch 9/30\n",
      "926/926 [==============================] - 0s 60us/step - loss: 0.3465 - precision_102: 0.3079 - val_loss: 0.3857 - val_precision_102: 0.3207\n",
      "Epoch 10/30\n",
      "926/926 [==============================] - 0s 60us/step - loss: 0.3505 - precision_102: 0.3346 - val_loss: 0.3796 - val_precision_102: 0.3425\n",
      "Epoch 11/30\n",
      "926/926 [==============================] - 0s 59us/step - loss: 0.3501 - precision_102: 0.3532 - val_loss: 0.3681 - val_precision_102: 0.3650\n",
      "Epoch 12/30\n",
      "926/926 [==============================] - 0s 59us/step - loss: 0.3320 - precision_102: 0.3741 - val_loss: 0.3624 - val_precision_102: 0.3823\n",
      "Epoch 13/30\n",
      "926/926 [==============================] - 0s 60us/step - loss: 0.3259 - precision_102: 0.3926 - val_loss: 0.3576 - val_precision_102: 0.4017\n",
      "Epoch 14/30\n",
      "926/926 [==============================] - 0s 67us/step - loss: 0.3369 - precision_102: 0.4107 - val_loss: 0.3564 - val_precision_102: 0.4190\n",
      "Epoch 15/30\n",
      "926/926 [==============================] - 0s 69us/step - loss: 0.3308 - precision_102: 0.4268 - val_loss: 0.3523 - val_precision_102: 0.4327\n",
      "Epoch 16/30\n",
      "926/926 [==============================] - 0s 61us/step - loss: 0.3139 - precision_102: 0.4429 - val_loss: 0.3521 - val_precision_102: 0.4507\n",
      "Epoch 17/30\n",
      "926/926 [==============================] - 0s 60us/step - loss: 0.3131 - precision_102: 0.4555 - val_loss: 0.3580 - val_precision_102: 0.4610\n",
      "Epoch 18/30\n",
      "926/926 [==============================] - 0s 58us/step - loss: 0.3169 - precision_102: 0.4659 - val_loss: 0.3531 - val_precision_102: 0.4710\n",
      "Epoch 19/30\n",
      "926/926 [==============================] - 0s 63us/step - loss: 0.3123 - precision_102: 0.4765 - val_loss: 0.3532 - val_precision_102: 0.4815\n",
      "Epoch 20/30\n",
      "926/926 [==============================] - 0s 61us/step - loss: 0.2995 - precision_102: 0.4869 - val_loss: 0.3483 - val_precision_102: 0.4931\n",
      "Epoch 21/30\n",
      "926/926 [==============================] - 0s 76us/step - loss: 0.3305 - precision_102: 0.4965 - val_loss: 0.3476 - val_precision_102: 0.5016\n",
      "Epoch 22/30\n",
      "926/926 [==============================] - 0s 71us/step - loss: 0.3004 - precision_102: 0.5078 - val_loss: 0.3453 - val_precision_102: 0.5124\n",
      "Epoch 23/30\n",
      "926/926 [==============================] - 0s 71us/step - loss: 0.3015 - precision_102: 0.5176 - val_loss: 0.3490 - val_precision_102: 0.5208\n",
      "Epoch 24/30\n",
      "926/926 [==============================] - 0s 73us/step - loss: 0.3138 - precision_102: 0.5243 - val_loss: 0.3524 - val_precision_102: 0.5271\n",
      "Epoch 25/30\n",
      "926/926 [==============================] - 0s 65us/step - loss: 0.2953 - precision_102: 0.5300 - val_loss: 0.3478 - val_precision_102: 0.5341\n",
      "Epoch 26/30\n",
      "926/926 [==============================] - 0s 76us/step - loss: 0.3008 - precision_102: 0.5372 - val_loss: 0.3462 - val_precision_102: 0.5408\n",
      "Epoch 27/30\n",
      "926/926 [==============================] - 0s 73us/step - loss: 0.2924 - precision_102: 0.5448 - val_loss: 0.3441 - val_precision_102: 0.5485\n",
      "Epoch 28/30\n",
      "926/926 [==============================] - 0s 71us/step - loss: 0.2964 - precision_102: 0.5518 - val_loss: 0.3460 - val_precision_102: 0.5554\n",
      "Epoch 29/30\n",
      "926/926 [==============================] - 0s 70us/step - loss: 0.2833 - precision_102: 0.5582 - val_loss: 0.3465 - val_precision_102: 0.5612\n",
      "Epoch 30/30\n",
      "926/926 [==============================] - 0s 75us/step - loss: 0.2991 - precision_102: 0.5640 - val_loss: 0.3463 - val_precision_102: 0.5666\n"
     ]
    },
    {
     "data": {
      "text/plain": [
       "<keras.callbacks.callbacks.History at 0x7f86b4ee3dc0>"
      ]
     },
     "execution_count": 608,
     "metadata": {},
     "output_type": "execute_result"
    }
   ],
   "source": [
    "dropout = 0.2\n",
    "modeld = keras.models.Sequential()\n",
    "modeld.add(keras.layers.Dense(100, kernel_initializer= 'he_normal',input_shape = (X.shape[1],)))\n",
    "modeld.add(keras.layers.BatchNormalization())\n",
    "modeld.add(Dropout(dropout))\n",
    "modeld.add(keras.layers.Activation('relu'))\n",
    "modeld.add(Dropout(dropout))\n",
    "modeld.add(keras.layers.Dense(1, activation = 'sigmoid'))\n",
    "modeld.compile(optimizer = \"adam\", loss = 'binary_crossentropy', metrics = [tf.keras.metrics.Precision()])\n",
    "modeld.fit(X_train, y_train, epochs = 30, batch_size = 20, validation_split=0.1)"
   ]
  },
  {
   "cell_type": "code",
   "execution_count": 609,
   "metadata": {},
   "outputs": [
    {
     "name": "stdout",
     "output_type": "stream",
     "text": [
      "train\n",
      "              precision    recall  f1-score   support\n",
      "\n",
      "           0       0.89      0.99      0.94       863\n",
      "           1       0.92      0.39      0.55       166\n",
      "\n",
      "    accuracy                           0.90      1029\n",
      "   macro avg       0.91      0.69      0.74      1029\n",
      "weighted avg       0.90      0.90      0.88      1029\n",
      "\n",
      "test\n",
      "              precision    recall  f1-score   support\n",
      "\n",
      "           0       0.89      0.98      0.93       370\n",
      "           1       0.75      0.34      0.47        71\n",
      "\n",
      "    accuracy                           0.88       441\n",
      "   macro avg       0.82      0.66      0.70       441\n",
      "weighted avg       0.86      0.88      0.85       441\n",
      "\n"
     ]
    }
   ],
   "source": [
    "print('train')\n",
    "print(classification_report(y_train, [x >=0.5 for x in modeld.predict(X_train)]))\n",
    "print('test')\n",
    "print(classification_report(y_test, [x >=0.5 for x in modeld.predict(X_test)]))"
   ]
  },
  {
   "cell_type": "code",
   "execution_count": 626,
   "metadata": {},
   "outputs": [
    {
     "name": "stdout",
     "output_type": "stream",
     "text": [
      "Train on 926 samples, validate on 103 samples\n",
      "Epoch 1/30\n",
      "926/926 [==============================] - 0s 434us/step - loss: 0.2851 - precision_111: 0.1581 - val_loss: 0.2109 - val_precision_111: 0.1429\n",
      "Epoch 2/30\n",
      "926/926 [==============================] - 0s 77us/step - loss: 0.1928 - precision_111: 0.1444 - val_loss: 0.1824 - val_precision_111: 0.1441\n",
      "Epoch 3/30\n",
      "926/926 [==============================] - 0s 68us/step - loss: 0.1808 - precision_111: 0.1461 - val_loss: 0.1697 - val_precision_111: 0.1475\n",
      "Epoch 4/30\n",
      "926/926 [==============================] - 0s 65us/step - loss: 0.1644 - precision_111: 0.1492 - val_loss: 0.1605 - val_precision_111: 0.1587\n",
      "Epoch 5/30\n",
      "926/926 [==============================] - 0s 64us/step - loss: 0.1527 - precision_111: 0.1720 - val_loss: 0.1542 - val_precision_111: 0.1955\n",
      "Epoch 6/30\n",
      "926/926 [==============================] - 0s 61us/step - loss: 0.1554 - precision_111: 0.2159 - val_loss: 0.1495 - val_precision_111: 0.2333\n",
      "Epoch 7/30\n",
      "926/926 [==============================] - 0s 65us/step - loss: 0.1474 - precision_111: 0.2460 - val_loss: 0.1465 - val_precision_111: 0.2658\n",
      "Epoch 8/30\n",
      "926/926 [==============================] - 0s 60us/step - loss: 0.1468 - precision_111: 0.2944 - val_loss: 0.1452 - val_precision_111: 0.3258\n",
      "Epoch 9/30\n",
      "926/926 [==============================] - 0s 64us/step - loss: 0.1395 - precision_111: 0.3586 - val_loss: 0.1428 - val_precision_111: 0.3744\n",
      "Epoch 10/30\n",
      "926/926 [==============================] - 0s 60us/step - loss: 0.1405 - precision_111: 0.3876 - val_loss: 0.1413 - val_precision_111: 0.4104\n",
      "Epoch 11/30\n",
      "926/926 [==============================] - 0s 59us/step - loss: 0.1412 - precision_111: 0.4378 - val_loss: 0.1393 - val_precision_111: 0.4564\n",
      "Epoch 12/30\n",
      "926/926 [==============================] - 0s 60us/step - loss: 0.1411 - precision_111: 0.4707 - val_loss: 0.1386 - val_precision_111: 0.4854\n",
      "Epoch 13/30\n",
      "926/926 [==============================] - 0s 69us/step - loss: 0.1336 - precision_111: 0.5021 - val_loss: 0.1364 - val_precision_111: 0.5200\n",
      "Epoch 14/30\n",
      "926/926 [==============================] - 0s 69us/step - loss: 0.1384 - precision_111: 0.5373 - val_loss: 0.1364 - val_precision_111: 0.5508\n",
      "Epoch 15/30\n",
      "926/926 [==============================] - 0s 67us/step - loss: 0.1378 - precision_111: 0.5603 - val_loss: 0.1373 - val_precision_111: 0.5676\n",
      "Epoch 16/30\n",
      "926/926 [==============================] - 0s 78us/step - loss: 0.1307 - precision_111: 0.5812 - val_loss: 0.1379 - val_precision_111: 0.5898\n",
      "Epoch 17/30\n",
      "926/926 [==============================] - 0s 74us/step - loss: 0.1282 - precision_111: 0.6060 - val_loss: 0.1363 - val_precision_111: 0.6198\n",
      "Epoch 18/30\n",
      "926/926 [==============================] - 0s 76us/step - loss: 0.1302 - precision_111: 0.6302 - val_loss: 0.1369 - val_precision_111: 0.6367\n",
      "Epoch 19/30\n",
      "926/926 [==============================] - 0s 74us/step - loss: 0.1337 - precision_111: 0.6433 - val_loss: 0.1373 - val_precision_111: 0.6541\n",
      "Epoch 20/30\n",
      "926/926 [==============================] - 0s 74us/step - loss: 0.1331 - precision_111: 0.6534 - val_loss: 0.1371 - val_precision_111: 0.6572\n",
      "Epoch 21/30\n",
      "926/926 [==============================] - 0s 68us/step - loss: 0.1267 - precision_111: 0.6681 - val_loss: 0.1385 - val_precision_111: 0.6754\n",
      "Epoch 22/30\n",
      "926/926 [==============================] - 0s 73us/step - loss: 0.1313 - precision_111: 0.6825 - val_loss: 0.1375 - val_precision_111: 0.6884\n",
      "Epoch 23/30\n",
      "926/926 [==============================] - 0s 73us/step - loss: 0.1248 - precision_111: 0.6950 - val_loss: 0.1379 - val_precision_111: 0.6984\n",
      "Epoch 24/30\n",
      "926/926 [==============================] - 0s 70us/step - loss: 0.1291 - precision_111: 0.7035 - val_loss: 0.1380 - val_precision_111: 0.7084\n",
      "Epoch 25/30\n",
      "926/926 [==============================] - 0s 69us/step - loss: 0.1261 - precision_111: 0.7135 - val_loss: 0.1390 - val_precision_111: 0.7182\n",
      "Epoch 26/30\n",
      "926/926 [==============================] - 0s 73us/step - loss: 0.1292 - precision_111: 0.7242 - val_loss: 0.1392 - val_precision_111: 0.7284\n",
      "Epoch 27/30\n",
      "926/926 [==============================] - 0s 74us/step - loss: 0.1313 - precision_111: 0.7326 - val_loss: 0.1394 - val_precision_111: 0.7344\n",
      "Epoch 28/30\n",
      "926/926 [==============================] - 0s 77us/step - loss: 0.1240 - precision_111: 0.7405 - val_loss: 0.1410 - val_precision_111: 0.7447\n",
      "Epoch 29/30\n",
      "926/926 [==============================] - 0s 74us/step - loss: 0.1304 - precision_111: 0.7493 - val_loss: 0.1406 - val_precision_111: 0.7500\n",
      "Epoch 30/30\n",
      "926/926 [==============================] - 0s 83us/step - loss: 0.1261 - precision_111: 0.7527 - val_loss: 0.1405 - val_precision_111: 0.7551\n"
     ]
    },
    {
     "data": {
      "text/plain": [
       "<keras.callbacks.callbacks.History at 0x7f8630334fa0>"
      ]
     },
     "execution_count": 626,
     "metadata": {},
     "output_type": "execute_result"
    }
   ],
   "source": [
    "class_weight= {0:0.7, 1:0.3}\n",
    "dropout = 0.2\n",
    "modeld = keras.models.Sequential()\n",
    "modeld.add(keras.layers.Dense(100, kernel_initializer= 'he_normal',input_shape = (X.shape[1],)))\n",
    "modeld.add(Dropout(dropout))\n",
    "modeld.add(keras.layers.BatchNormalization())\n",
    "modeld.add(Dropout(dropout))\n",
    "modeld.add(keras.layers.Activation('relu'))\n",
    "modeld.add(Dropout(dropout))\n",
    "modeld.add(keras.layers.Dense(1, activation = 'sigmoid'))\n",
    "modeld.compile(optimizer = \"adam\", loss = 'binary_crossentropy', metrics = [tf.keras.metrics.Precision()])\n",
    "modeld.fit(X_train, y_train, epochs = 30, batch_size = 20, validation_split=0.1, class_weight = class_weight)"
   ]
  },
  {
   "cell_type": "code",
   "execution_count": 627,
   "metadata": {},
   "outputs": [
    {
     "name": "stdout",
     "output_type": "stream",
     "text": [
      "train\n",
      "              precision    recall  f1-score   support\n",
      "\n",
      "           0       0.89      1.00      0.94       863\n",
      "           1       0.95      0.37      0.53       166\n",
      "\n",
      "    accuracy                           0.90      1029\n",
      "   macro avg       0.92      0.68      0.74      1029\n",
      "weighted avg       0.90      0.90      0.87      1029\n",
      "\n",
      "test\n",
      "              precision    recall  f1-score   support\n",
      "\n",
      "           0       0.88      0.99      0.94       370\n",
      "           1       0.88      0.32      0.47        71\n",
      "\n",
      "    accuracy                           0.88       441\n",
      "   macro avg       0.88      0.66      0.70       441\n",
      "weighted avg       0.88      0.88      0.86       441\n",
      "\n"
     ]
    }
   ],
   "source": [
    "print('train')\n",
    "print(classification_report(y_train, [x >=0.5 for x in modeld.predict(X_train)]))\n",
    "print('test')\n",
    "print(classification_report(y_test, [x >=0.5 for x in modeld.predict(X_test)]))"
   ]
  },
  {
   "cell_type": "code",
   "execution_count": 663,
   "metadata": {},
   "outputs": [],
   "source": [
    "###For Deep Learning we are going to be using modeld\n",
    "###For machine Learning use svc\n",
    "###VC for very high precision and acceptable recall"
   ]
  },
  {
   "cell_type": "code",
   "execution_count": 664,
   "metadata": {},
   "outputs": [],
   "source": [
    "###Example of how to use Machine Learning Model - will talk about SVC"
   ]
  },
  {
   "cell_type": "code",
   "execution_count": 692,
   "metadata": {},
   "outputs": [
    {
     "data": {
      "image/png": "[encoded data removed]",
      "text/plain": [
       "<Figure size 1440x720 with 1 Axes>"
      ]
     },
     "metadata": {
      "needs_background": "light"
     },
     "output_type": "display_data"
    }
   ],
   "source": [
    "plt.figure(figsize=(20,10))\n",
    "mutiplication = list(X_test.iloc[0])*svc.coef_[0]\n",
    "mutiplication_abs = np.abs(mutiplication)\n",
    "indexes = np.where(mutiplication_abs >= 0.3)\n",
    "plt.barh(X_train.columns,mutiplication, color = '#9fadfa', linewidth = 1, edgecolor = 'black')\n",
    "plt.barh(X_train.columns[indexes],mutiplication[indexes], color = '#FFa5a5', linewidth = 1, edgecolor = 'black')\n",
    "plt.legend(['Not Affecting', 'Affecting'])\n",
    "plt.title('Factors Affecting the Attrition Problem for this Employee')\n",
    "plt.savefig('Factors.png')"
   ]
  },
  {
   "cell_type": "code",
   "execution_count": null,
   "metadata": {},
   "outputs": [],
   "source": []
  },
  {
   "cell_type": "code",
   "execution_count": null,
   "metadata": {},
   "outputs": [],
   "source": []
  }
 ],
 "metadata": {
  "kernelspec": {
   "display_name": "Python 3",
   "language": "python",
   "name": "python3"
  },
  "language_info": {
   "codemirror_mode": {
    "name": "ipython",
    "version": 3
   },
   "file_extension": ".py",
   "mimetype": "text/x-python",
   "name": "python",
   "nbconvert_exporter": "python",
   "pygments_lexer": "ipython3",
   "version": "3.8.3"
  }
 },
 "nbformat": 4,
 "nbformat_minor": 4
}
